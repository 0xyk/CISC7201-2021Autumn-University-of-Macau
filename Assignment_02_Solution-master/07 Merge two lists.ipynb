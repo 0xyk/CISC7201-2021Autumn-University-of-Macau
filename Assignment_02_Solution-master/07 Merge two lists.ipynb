{
 "cells": [
  {
   "cell_type": "markdown",
   "id": "6e639323",
   "metadata": {},
   "source": [
    "Since the two lists are already sorted, we can start from their heads and use two indexes to indicate the currently inspected items.\n",
    "In each iteration, we insert the smaller one of two inspected items, and move the index forward if the item is inserted."
   ]
  },
  {
   "cell_type": "code",
   "execution_count": 1,
   "id": "abbd4be7",
   "metadata": {},
   "outputs": [
    {
     "name": "stdout",
     "output_type": "stream",
     "text": [
      "[1, 2, 3, 4, 5, 6, 7, 8, 9]\n"
     ]
    }
   ],
   "source": [
    "a = [1,3,5,7,9]\n",
    "b = [2,4,6,8,10]\n",
    "a_inspected,b_inspected = 0,0\n",
    "out = []\n",
    "while(a_inspected<len(a) and b_inspected<len(b)):\n",
    "    if(a[a_inspected]<=b[b_inspected]):   \n",
    "        out.append(a[a_inspected])  #insert the smaller inspected item\n",
    "        a_inspected += 1      #move forward\n",
    "    else:\n",
    "        out.append(b[b_inspected])\n",
    "        b_inspected += 1\n",
    "print(out)"
   ]
  },
  {
   "cell_type": "markdown",
   "id": "2d2d2598",
   "metadata": {},
   "source": [
    "However, the above code will fail if the two lists are not equally sized"
   ]
  },
  {
   "cell_type": "code",
   "execution_count": 5,
   "id": "d16b6f9f",
   "metadata": {},
   "outputs": [
    {
     "name": "stdout",
     "output_type": "stream",
     "text": [
      "[1, 2, 3, 4, 5, 6, 7]\n",
      "4 3\n"
     ]
    }
   ],
   "source": [
    "a = [1,3,5,7]\n",
    "b = [2,4,6,8,10]\n",
    "a_inspected,b_inspected = 0,0\n",
    "out = []\n",
    "while(a_inspected<len(a) and b_inspected<len(b)):\n",
    "    if(a[a_inspected]<=b[b_inspected]):   #insert the inspected one\n",
    "        out.append(a[a_inspected])\n",
    "        a_inspected += 1      #move forward\n",
    "    else:\n",
    "        out.append(b[b_inspected])\n",
    "        b_inspected += 1\n",
    "print(out)\n",
    "print(a_inspected,b_inspected)   #b is not fully explored"
   ]
  },
  {
   "cell_type": "markdown",
   "id": "5d3ffcd2",
   "metadata": {},
   "source": [
    "Therefore, don't forget to collect the remaining items:"
   ]
  },
  {
   "cell_type": "code",
   "execution_count": 6,
   "id": "94f184cc",
   "metadata": {},
   "outputs": [
    {
     "name": "stdout",
     "output_type": "stream",
     "text": [
      "1 3 5 7\n",
      "2 4 6 8 10\n",
      "1 2 3 4 5 6 7 8 10 "
     ]
    }
   ],
   "source": [
    "a = [int(x) for x in input().split()]\n",
    "b = [int(x) for x in input().split()]\n",
    "a_inspected,b_inspected = 0,0\n",
    "out = []\n",
    "while(a_inspected<len(a) and b_inspected<len(b)):\n",
    "    if(a[a_inspected]<=b[b_inspected]):   #insert the inspected one\n",
    "        out.append(a[a_inspected])\n",
    "        a_inspected += 1      #move forward\n",
    "    else:\n",
    "        out.append(b[b_inspected])\n",
    "        b_inspected += 1\n",
    "        \n",
    "while(a_inspected<len(a)):   # remaining items of a\n",
    "    out.append(a[a_inspected])\n",
    "    a_inspected += 1\n",
    "while(b_inspected<len(b)):   # remaining items of n\n",
    "    out.append(b[b_inspected])\n",
    "    b_inspected += 1\n",
    "for i in out:\n",
    "    print(str(i),end=' ')"
   ]
  },
  {
   "cell_type": "code",
   "execution_count": null,
   "id": "d78629bf",
   "metadata": {},
   "outputs": [],
   "source": []
  }
 ],
 "metadata": {
  "kernelspec": {
   "display_name": "Python 3",
   "language": "python",
   "name": "python3"
  },
  "language_info": {
   "codemirror_mode": {
    "name": "ipython",
    "version": 3
   },
   "file_extension": ".py",
   "mimetype": "text/x-python",
   "name": "python",
   "nbconvert_exporter": "python",
   "pygments_lexer": "ipython3",
   "version": "3.8.8"
  }
 },
 "nbformat": 4,
 "nbformat_minor": 5
}
