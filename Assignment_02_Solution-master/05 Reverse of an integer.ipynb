{
 "cells": [
  {
   "cell_type": "markdown",
   "id": "b8305d08",
   "metadata": {},
   "source": [
    "You may just use string operation to solve the problem"
   ]
  },
  {
   "cell_type": "code",
   "execution_count": 1,
   "id": "30765709",
   "metadata": {},
   "outputs": [
    {
     "name": "stdout",
     "output_type": "stream",
     "text": [
      "7743343\n",
      "3433477\n"
     ]
    }
   ],
   "source": [
    "num = int(input())\n",
    "print(str(num)[::-1])"
   ]
  },
  {
   "cell_type": "markdown",
   "id": "3393a213",
   "metadata": {},
   "source": [
    "But we want you to know how to calculate it using simple math"
   ]
  },
  {
   "cell_type": "code",
   "execution_count": 2,
   "id": "644f3d28",
   "metadata": {},
   "outputs": [
    {
     "name": "stdout",
     "output_type": "stream",
     "text": [
      "78522\n",
      "22587\n"
     ]
    }
   ],
   "source": [
    "num = int(input())\n",
    "total = 0\n",
    "while(num/10):\n",
    "    total*=10\n",
    "    total+=num%10\n",
    "    num=num//10\n",
    "print(total)"
   ]
  },
  {
   "cell_type": "code",
   "execution_count": null,
   "id": "c2e15b48",
   "metadata": {},
   "outputs": [],
   "source": []
  }
 ],
 "metadata": {
  "kernelspec": {
   "display_name": "Python 3",
   "language": "python",
   "name": "python3"
  },
  "language_info": {
   "codemirror_mode": {
    "name": "ipython",
    "version": 3
   },
   "file_extension": ".py",
   "mimetype": "text/x-python",
   "name": "python",
   "nbconvert_exporter": "python",
   "pygments_lexer": "ipython3",
   "version": "3.8.8"
  }
 },
 "nbformat": 4,
 "nbformat_minor": 5
}
