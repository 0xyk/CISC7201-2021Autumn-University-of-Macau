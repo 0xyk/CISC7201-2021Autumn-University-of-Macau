{
 "cells": [
  {
   "cell_type": "markdown",
   "id": "d8277e89",
   "metadata": {},
   "source": [
    "One line of code:"
   ]
  },
  {
   "cell_type": "code",
   "execution_count": 1,
   "id": "9b86bace",
   "metadata": {},
   "outputs": [
    {
     "name": "stdout",
     "output_type": "stream",
     "text": [
      "ANewString\n",
      "True\n"
     ]
    }
   ],
   "source": [
    "string = input()\n",
    "print(len(set(string))==len(string))"
   ]
  },
  {
   "cell_type": "markdown",
   "id": "8c26b1d8",
   "metadata": {},
   "source": [
    "set() can be used to store unique items in the sequence"
   ]
  },
  {
   "cell_type": "code",
   "execution_count": 2,
   "id": "57144201",
   "metadata": {},
   "outputs": [
    {
     "name": "stdout",
     "output_type": "stream",
     "text": [
      "{1, 2, 3, 4, 5, 6}\n"
     ]
    }
   ],
   "source": [
    "li = [1,2,3,4,5,6,1,2,3]\n",
    "print(set(li))"
   ]
  },
  {
   "cell_type": "markdown",
   "id": "8347f050",
   "metadata": {},
   "source": [
    "If the size of set is the same as the original string, then all characters in the string is unique"
   ]
  },
  {
   "cell_type": "code",
   "execution_count": 4,
   "id": "c327320d",
   "metadata": {},
   "outputs": [
    {
     "name": "stdout",
     "output_type": "stream",
     "text": [
      "{'a', 'e', 'd', 'c', 'b'}\n",
      "5 5\n",
      "{'c', 'b', 'd', 'a'}\n",
      "5 4\n"
     ]
    }
   ],
   "source": [
    "string1 = 'abcde'\n",
    "print(set(string1))\n",
    "print(len(string1),len(set(string1)))\n",
    "\n",
    "string2 = 'abcda'\n",
    "print(set(string2))\n",
    "print(len(string2),len(set(string2)))"
   ]
  },
  {
   "cell_type": "code",
   "execution_count": null,
   "id": "5531b92c",
   "metadata": {},
   "outputs": [],
   "source": []
  }
 ],
 "metadata": {
  "kernelspec": {
   "display_name": "Python 3",
   "language": "python",
   "name": "python3"
  },
  "language_info": {
   "codemirror_mode": {
    "name": "ipython",
    "version": 3
   },
   "file_extension": ".py",
   "mimetype": "text/x-python",
   "name": "python",
   "nbconvert_exporter": "python",
   "pygments_lexer": "ipython3",
   "version": "3.8.8"
  }
 },
 "nbformat": 4,
 "nbformat_minor": 5
}
