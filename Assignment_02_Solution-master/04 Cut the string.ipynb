{
 "cells": [
  {
   "cell_type": "markdown",
   "id": "3fec44e6",
   "metadata": {},
   "source": [
    "To solve this problem, we should know how to slice the string using index"
   ]
  },
  {
   "cell_type": "code",
   "execution_count": 1,
   "id": "ccba67ea",
   "metadata": {},
   "outputs": [
    {
     "name": "stdout",
     "output_type": "stream",
     "text": [
      "abcd\n",
      "bc\n"
     ]
    }
   ],
   "source": [
    "s = 'abcdefgh'\n",
    "print(s[0:4])\n",
    "print(s[1:3])"
   ]
  },
  {
   "cell_type": "markdown",
   "id": "120ef5d6",
   "metadata": {},
   "source": [
    "And we need to use str.find to search a subsequence in the string"
   ]
  },
  {
   "cell_type": "code",
   "execution_count": 2,
   "id": "c58b42f2",
   "metadata": {},
   "outputs": [
    {
     "name": "stdout",
     "output_type": "stream",
     "text": [
      "2\n",
      "c\n",
      "abc\n",
      "bcde\n",
      "-1\n"
     ]
    }
   ],
   "source": [
    "s = 'abcdefgh'\n",
    "print(s.find('c'))\n",
    "print(s[s.find('c')])\n",
    "\n",
    "print(s[s.find('a'):s.find('d')])\n",
    "print(s[s.find('b'):s.find('f')])\n",
    "\n",
    "print(s.find('x'))"
   ]
  },
  {
   "cell_type": "markdown",
   "id": "6549117a",
   "metadata": {},
   "source": [
    "Output a new string made by the characters start by the second upper character and end by the character before the third upper character"
   ]
  },
  {
   "cell_type": "code",
   "execution_count": 3,
   "id": "92962422",
   "metadata": {},
   "outputs": [
    {
     "name": "stdout",
     "output_type": "stream",
     "text": [
      "ANewString\n",
      "New\n"
     ]
    }
   ],
   "source": [
    "str1 = input()\n",
    "upper ='' \n",
    "for ch in str1:\n",
    "    if 'A'<=ch <= 'Z':\n",
    "        upper+=ch\n",
    "print(str1[str1.find(upper[1]):str1.find(upper[2])])   "
   ]
  },
  {
   "cell_type": "code",
   "execution_count": null,
   "id": "9e20700a",
   "metadata": {},
   "outputs": [],
   "source": []
  }
 ],
 "metadata": {
  "kernelspec": {
   "display_name": "Python 3",
   "language": "python",
   "name": "python3"
  },
  "language_info": {
   "codemirror_mode": {
    "name": "ipython",
    "version": 3
   },
   "file_extension": ".py",
   "mimetype": "text/x-python",
   "name": "python",
   "nbconvert_exporter": "python",
   "pygments_lexer": "ipython3",
   "version": "3.8.8"
  }
 },
 "nbformat": 4,
 "nbformat_minor": 5
}
