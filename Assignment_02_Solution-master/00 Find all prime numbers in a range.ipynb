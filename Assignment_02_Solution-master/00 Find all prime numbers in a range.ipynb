{
 "cells": [
  {
   "cell_type": "markdown",
   "id": "d6ccb637",
   "metadata": {},
   "source": [
    "First, write a function to judge whether a number is prime or not (you can refer to 'prime number' in assignment 1)"
   ]
  },
  {
   "cell_type": "code",
   "execution_count": 1,
   "id": "76536502",
   "metadata": {},
   "outputs": [],
   "source": [
    "from math import sqrt\n",
    "def is_prime(num):\n",
    "    is_prime = True\n",
    "    for i in range(2,int(sqrt(num))+1):\n",
    "        if(num%i==0):\n",
    "            is_prime=False\n",
    "            break\n",
    "    return is_prime"
   ]
  },
  {
   "cell_type": "markdown",
   "id": "bcd1c24a",
   "metadata": {},
   "source": [
    "Test your function on your local editor first"
   ]
  },
  {
   "cell_type": "code",
   "execution_count": 2,
   "id": "bb6674b3",
   "metadata": {},
   "outputs": [
    {
     "name": "stdout",
     "output_type": "stream",
     "text": [
      "2 is prime? True\n",
      "3 is prime? True\n",
      "10086 is prime? False\n"
     ]
    }
   ],
   "source": [
    "print('2 is prime?',is_prime(2))\n",
    "print('3 is prime?',is_prime(3))\n",
    "print('10086 is prime?',is_prime(10086))"
   ]
  },
  {
   "cell_type": "markdown",
   "id": "67910689",
   "metadata": {},
   "source": [
    "Then use loop to scan the range"
   ]
  },
  {
   "cell_type": "code",
   "execution_count": 3,
   "id": "ac713e40",
   "metadata": {},
   "outputs": [
    {
     "name": "stdout",
     "output_type": "stream",
     "text": [
      "2 is prime\n",
      "3 is prime\n",
      "5 is prime\n",
      "7 is prime\n"
     ]
    }
   ],
   "source": [
    "a = 2\n",
    "b = 10\n",
    "for j in range(a,b):\n",
    "    if(is_prime(j)):\n",
    "        print(j,'is prime')"
   ]
  },
  {
   "cell_type": "markdown",
   "id": "76ae0b43",
   "metadata": {},
   "source": [
    "Finally, use a list to store the prime numbers and output the result"
   ]
  },
  {
   "cell_type": "code",
   "execution_count": 4,
   "id": "eee07db7",
   "metadata": {},
   "outputs": [
    {
     "name": "stdout",
     "output_type": "stream",
     "text": [
      "2 40\n",
      "2 3 5 7 11 13 17 19 23 29 31 37 "
     ]
    }
   ],
   "source": [
    "a,b = [int(num) for num in input().split()] \n",
    "res = []\n",
    "for j in range(a,b):\n",
    "    if(is_prime(j)):\n",
    "        res.append(j)\n",
    "for k in res:\n",
    "    print(k,end=' ')"
   ]
  },
  {
   "cell_type": "markdown",
   "id": "038d4684",
   "metadata": {},
   "source": [
    "Don't forget to paste the function into your submission"
   ]
  },
  {
   "cell_type": "code",
   "execution_count": 6,
   "id": "e53a8526",
   "metadata": {},
   "outputs": [
    {
     "name": "stdout",
     "output_type": "stream",
     "text": [
      "2 40\n",
      "2 3 5 7 11 13 17 19 23 29 31 37 "
     ]
    }
   ],
   "source": [
    "from math import sqrt\n",
    "def is_prime(num):\n",
    "    is_prime = True\n",
    "    for i in range(2,int(sqrt(num))+1):\n",
    "        if(num%i==0):\n",
    "            is_prime=False\n",
    "            break\n",
    "    return is_prime\n",
    "\n",
    "a,b = [int(num) for num in input().split()] \n",
    "res = []\n",
    "for j in range(a,b):\n",
    "    if(is_prime(j)):\n",
    "        res.append(j)\n",
    "for k in res:\n",
    "    print(k,end=' ')"
   ]
  },
  {
   "cell_type": "code",
   "execution_count": null,
   "id": "34e08f51",
   "metadata": {},
   "outputs": [],
   "source": []
  }
 ],
 "metadata": {
  "kernelspec": {
   "display_name": "Python 3",
   "language": "python",
   "name": "python3"
  },
  "language_info": {
   "codemirror_mode": {
    "name": "ipython",
    "version": 3
   },
   "file_extension": ".py",
   "mimetype": "text/x-python",
   "name": "python",
   "nbconvert_exporter": "python",
   "pygments_lexer": "ipython3",
   "version": "3.8.8"
  }
 },
 "nbformat": 4,
 "nbformat_minor": 5
}
