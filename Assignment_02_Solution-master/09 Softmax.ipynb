{
 "cells": [
  {
   "cell_type": "markdown",
   "id": "cf1735a8",
   "metadata": {},
   "source": [
    "You need an exp function for calculation, choose either of the followings:"
   ]
  },
  {
   "cell_type": "code",
   "execution_count": 1,
   "id": "28c68b55",
   "metadata": {},
   "outputs": [
    {
     "name": "stdout",
     "output_type": "stream",
     "text": [
      "3.0041660239464334\n",
      "3.0041660239464334\n"
     ]
    }
   ],
   "source": [
    "import numpy as np\n",
    "print(np.exp(1.1))\n",
    "\n",
    "from math import exp\n",
    "print(exp(1.1))"
   ]
  },
  {
   "cell_type": "markdown",
   "id": "121edcc5",
   "metadata": {},
   "source": [
    "You can either use numpy array or list to solve the problem\n",
    "\n",
    "Reminder: do not use 'round' function, as discussed in '02 Moving average'"
   ]
  },
  {
   "cell_type": "code",
   "execution_count": 2,
   "id": "718b1754",
   "metadata": {},
   "outputs": [
    {
     "name": "stdout",
     "output_type": "stream",
     "text": [
      "1.58 2.41 0.03 0.56 2.66\n",
      "0.15 0.34 0.03 0.05 0.43 "
     ]
    }
   ],
   "source": [
    "import numpy as np\n",
    "nums = [float(x) for x in input().split()]\n",
    "nums = np.array(nums)\n",
    "out = np.exp(nums)/np.sum(np.exp(nums))\n",
    "for o in out:\n",
    "    print('%.2f'% o,end=' ')"
   ]
  },
  {
   "cell_type": "code",
   "execution_count": 3,
   "id": "1beed898",
   "metadata": {},
   "outputs": [
    {
     "name": "stdout",
     "output_type": "stream",
     "text": [
      "1.58 2.41 0.03 0.56 2.66\n",
      "0.15 0.34 0.03 0.05 0.43 "
     ]
    }
   ],
   "source": [
    "from math import exp\n",
    "nums = [float(x) for x in input().split()]\n",
    "exp_list = [exp(num) for num in nums]\n",
    "sum_exp = sum(exp_list)\n",
    "for ele in exp_list:\n",
    "    tmp = ele/sum_exp\n",
    "    print('%.2f'%tmp, end = \" \")"
   ]
  },
  {
   "cell_type": "code",
   "execution_count": null,
   "id": "0884bbf8",
   "metadata": {},
   "outputs": [],
   "source": []
  }
 ],
 "metadata": {
  "kernelspec": {
   "display_name": "Python 3",
   "language": "python",
   "name": "python3"
  },
  "language_info": {
   "codemirror_mode": {
    "name": "ipython",
    "version": 3
   },
   "file_extension": ".py",
   "mimetype": "text/x-python",
   "name": "python",
   "nbconvert_exporter": "python",
   "pygments_lexer": "ipython3",
   "version": "3.8.8"
  }
 },
 "nbformat": 4,
 "nbformat_minor": 5
}
