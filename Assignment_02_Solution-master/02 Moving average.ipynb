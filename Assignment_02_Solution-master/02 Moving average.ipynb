{
 "cells": [
  {
   "cell_type": "markdown",
   "id": "242b5768",
   "metadata": {},
   "source": [
    "An important issue: don't use round function:"
   ]
  },
  {
   "cell_type": "code",
   "execution_count": 1,
   "id": "1272ab12",
   "metadata": {},
   "outputs": [
    {
     "name": "stdout",
     "output_type": "stream",
     "text": [
      "this is wrong 1.0\n",
      "this is correct 1.00\n"
     ]
    }
   ],
   "source": [
    "number = 1.00086\n",
    "print('this is wrong',round(number,2))\n",
    "print('this is correct', '%.2f' % number)"
   ]
  },
  {
   "cell_type": "markdown",
   "id": "cc27e2f9",
   "metadata": {},
   "source": [
    "If you use list, you should know how to slice the list"
   ]
  },
  {
   "cell_type": "code",
   "execution_count": 2,
   "id": "d0f04143",
   "metadata": {},
   "outputs": [
    {
     "name": "stdout",
     "output_type": "stream",
     "text": [
      "[3, 2, 1]\n",
      "[4, 7]\n",
      "[6, 9, 8, 5]\n"
     ]
    }
   ],
   "source": [
    "numbers = [3,2,1,4,7,6,9,8,5]\n",
    "print(numbers[:3])\n",
    "print(numbers[3:5])\n",
    "print(numbers[5:])"
   ]
  },
  {
   "cell_type": "markdown",
   "id": "8fe5b47b",
   "metadata": {},
   "source": [
    "You should consider the case when the window is not full:"
   ]
  },
  {
   "cell_type": "code",
   "execution_count": 3,
   "id": "55526bf2",
   "metadata": {},
   "outputs": [
    {
     "name": "stdout",
     "output_type": "stream",
     "text": [
      "[3]\n",
      "[3, 2]\n",
      "[3, 2, 1]\n",
      "[2, 1, 4]\n",
      "[1, 4, 7]\n",
      "[4, 7, 6]\n",
      "[7, 6, 9]\n",
      "[6, 9, 8]\n",
      "[9, 8, 5]\n"
     ]
    }
   ],
   "source": [
    "size,nums = 3,[3,2,1,4,7,6,9,8,5]\n",
    "current_window=[]\n",
    "\n",
    "for i in range(len(nums)):\n",
    "    if i < size:\n",
    "        current_window.append(nums[i])\n",
    "        print(current_window)\n",
    "    else:\n",
    "        current_window = nums[i+1-size:i+1]\n",
    "        print(current_window)"
   ]
  },
  {
   "cell_type": "markdown",
   "id": "d77677ff",
   "metadata": {},
   "source": [
    "Output the results"
   ]
  },
  {
   "cell_type": "code",
   "execution_count": 4,
   "id": "d35773b2",
   "metadata": {},
   "outputs": [
    {
     "name": "stdout",
     "output_type": "stream",
     "text": [
      "5 8 5 2 3 8 6 4 8 5 2\n",
      "8.00 6.50 5.00 4.50 5.20 4.80 4.60 5.80 6.20 5.00 "
     ]
    }
   ],
   "source": [
    "nums = input().split()\n",
    "size,nums = int(nums[0]),[int(i) for i in nums[1:]]\n",
    "current_window=[]\n",
    "\n",
    "for i in range(len(nums)):\n",
    "    if i < size: # the window is not full\n",
    "        current_window.append(nums[i])\n",
    "        x=sum(current_window)/(i+1)\n",
    "        print('%.2f'%x,end=' ')\n",
    "    else: # the window is full\n",
    "        current_window = nums[i+1-size:i+1]\n",
    "        x=sum(current_window)/size\n",
    "        print('%.2f'%x,end=' ')"
   ]
  },
  {
   "cell_type": "markdown",
   "id": "a7b1f0c3",
   "metadata": {},
   "source": [
    "It's easier if you use queue, queue is first-in-first-out"
   ]
  },
  {
   "cell_type": "code",
   "execution_count": 5,
   "id": "edb74601",
   "metadata": {},
   "outputs": [
    {
     "name": "stdout",
     "output_type": "stream",
     "text": [
      "size: 3\n",
      "item removed: 1\n",
      "size: 2\n",
      "item removed: 7\n",
      "size: 1\n",
      "item removed: 3\n"
     ]
    }
   ],
   "source": [
    "from queue import Queue\n",
    "q = Queue()\n",
    "q.put(1)\n",
    "q.put(7)\n",
    "q.put(3)\n",
    "print('size:',q.qsize()) #size of queue\n",
    "print('item removed:',q.get())   # the first item\n",
    "print('size:',q.qsize())\n",
    "print('item removed:',q.get())   \n",
    "print('size:',q.qsize())\n",
    "print('item removed:',q.get()) "
   ]
  },
  {
   "cell_type": "code",
   "execution_count": 7,
   "id": "3e32793f",
   "metadata": {},
   "outputs": [
    {
     "name": "stdout",
     "output_type": "stream",
     "text": [
      "5 8 5 2 3 8 6 4 8 5 2\n",
      "8.00 6.50 5.00 4.50 5.20 4.80 4.60 5.80 6.20 5.00 "
     ]
    }
   ],
   "source": [
    "from queue import Queue\n",
    "nums = input().split()\n",
    "window_size,nums = int(nums[0]),[int(i) for i in nums[1:]]\n",
    "q = Queue()\n",
    "cursum = 0  #use this to calculate the sum\n",
    "ma = []\n",
    "for i in range(len(nums)):\n",
    "    if q.qsize()<window_size:   # the window is not full, put the new item at the end of queue\n",
    "        q.put(nums[i])\n",
    "        cursum += nums[i]\n",
    "    else:                    #the window is full, get the item at the head of queue and put the new item at the end of queue\n",
    "        cursum -= q.get()\n",
    "        q.put(nums[i])\n",
    "        cursum += nums[i]\n",
    "    ma.append(cursum/q.qsize())\n",
    "for a in ma:\n",
    "    print('%.2f'%a,end=' ')"
   ]
  },
  {
   "cell_type": "code",
   "execution_count": null,
   "id": "4fc4f1c1",
   "metadata": {},
   "outputs": [],
   "source": []
  }
 ],
 "metadata": {
  "kernelspec": {
   "display_name": "Python 3",
   "language": "python",
   "name": "python3"
  },
  "language_info": {
   "codemirror_mode": {
    "name": "ipython",
    "version": 3
   },
   "file_extension": ".py",
   "mimetype": "text/x-python",
   "name": "python",
   "nbconvert_exporter": "python",
   "pygments_lexer": "ipython3",
   "version": "3.8.8"
  }
 },
 "nbformat": 4,
 "nbformat_minor": 5
}
