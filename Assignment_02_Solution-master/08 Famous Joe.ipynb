{
 "cells": [
  {
   "cell_type": "markdown",
   "id": "b86c76b3",
   "metadata": {},
   "source": [
    "You are recommended to use findall to solve this problem, don't make it complicated"
   ]
  },
  {
   "cell_type": "code",
   "execution_count": 1,
   "id": "13483404",
   "metadata": {},
   "outputs": [
    {
     "name": "stdout",
     "output_type": "stream",
     "text": [
      "joe biden\n",
      "1\n"
     ]
    }
   ],
   "source": [
    "import re\n",
    "s = input()\n",
    "print(len(re.findall('joe',s)))"
   ]
  },
  {
   "cell_type": "code",
   "execution_count": 2,
   "id": "6bf7b2d5",
   "metadata": {},
   "outputs": [
    {
     "name": "stdout",
     "output_type": "stream",
     "text": [
      "['joe', 'joe', 'joe']\n",
      "3\n"
     ]
    }
   ],
   "source": [
    "import re\n",
    "s = 'joejoejoe'\n",
    "print(re.findall('joe',s))\n",
    "print(len(re.findall('joe',s)))"
   ]
  },
  {
   "cell_type": "markdown",
   "id": "e9bac1df",
   "metadata": {},
   "source": [
    "re.findall actually searches a pattern. If you are interested, you can work out the following code\n",
    "\n",
    "Reference: https://www.w3schools.com/python/python_regex.asp"
   ]
  },
  {
   "cell_type": "code",
   "execution_count": 3,
   "id": "a768975d",
   "metadata": {},
   "outputs": [
    {
     "name": "stdout",
     "output_type": "stream",
     "text": [
      "['joe', 'jae', 'jfe', 'jse']\n",
      "['jake']\n",
      "['joe', 'jae', 'jfe', 'jse', 'je']\n",
      "['je']\n",
      "['joe', 'jae', 'jfe', 'jse']\n",
      "['jake']\n"
     ]
    }
   ],
   "source": [
    "import re\n",
    "s = 'joe jae jfe jse je jake'\n",
    "\n",
    "print(re.findall('j.e',s))\n",
    "print(re.findall('j..e',s))\n",
    "print(re.findall('j.?e',s))\n",
    "print(re.findall('j.{0}e',s))\n",
    "print(re.findall('j.{1}e',s))\n",
    "print(re.findall('j.{2}e',s))"
   ]
  },
  {
   "cell_type": "code",
   "execution_count": null,
   "id": "8a848cc9",
   "metadata": {},
   "outputs": [],
   "source": []
  }
 ],
 "metadata": {
  "kernelspec": {
   "display_name": "Python 3",
   "language": "python",
   "name": "python3"
  },
  "language_info": {
   "codemirror_mode": {
    "name": "ipython",
    "version": 3
   },
   "file_extension": ".py",
   "mimetype": "text/x-python",
   "name": "python",
   "nbconvert_exporter": "python",
   "pygments_lexer": "ipython3",
   "version": "3.8.8"
  }
 },
 "nbformat": 4,
 "nbformat_minor": 5
}
