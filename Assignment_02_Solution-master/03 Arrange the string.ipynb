{
 "cells": [
  {
   "cell_type": "markdown",
   "id": "c035a921",
   "metadata": {},
   "source": [
    "The uppercase and lowercase can be judged by the following code:"
   ]
  },
  {
   "cell_type": "code",
   "execution_count": 1,
   "id": "bad53109",
   "metadata": {},
   "outputs": [
    {
     "name": "stdout",
     "output_type": "stream",
     "text": [
      "A is upper\n",
      "B is upper\n",
      "a is lower\n",
      "c is lower\n",
      "z is lower\n",
      "M is upper\n",
      "f is lower\n"
     ]
    }
   ],
   "source": [
    "chs = ['A','B','a','c','z','M','f']\n",
    "for ch in chs:\n",
    "    if 'A'<=ch <= 'Z':\n",
    "       print(ch + ' is upper')\n",
    "    elif 'a'<=ch <= 'z':\n",
    "       print(ch + ' is lower')"
   ]
  },
  {
   "cell_type": "markdown",
   "id": "9d3ef85c",
   "metadata": {},
   "source": [
    "So the answer should be easy"
   ]
  },
  {
   "cell_type": "code",
   "execution_count": 2,
   "id": "8c9116bf",
   "metadata": {},
   "outputs": [
    {
     "name": "stdout",
     "output_type": "stream",
     "text": [
      "ANewString\n",
      "ANSewtring\n"
     ]
    }
   ],
   "source": [
    "str1 = str(input())\n",
    "upper = ''\n",
    "lower = ''\n",
    "for ch in str1:\n",
    "    if 'A'<=ch <= 'Z':\n",
    "        upper+=ch\n",
    "    elif 'a'<=ch <= 'z':\n",
    "        lower+=ch\n",
    "print(upper+lower)"
   ]
  },
  {
   "cell_type": "code",
   "execution_count": null,
   "id": "e9044750",
   "metadata": {},
   "outputs": [],
   "source": []
  }
 ],
 "metadata": {
  "kernelspec": {
   "display_name": "Python 3",
   "language": "python",
   "name": "python3"
  },
  "language_info": {
   "codemirror_mode": {
    "name": "ipython",
    "version": 3
   },
   "file_extension": ".py",
   "mimetype": "text/x-python",
   "name": "python",
   "nbconvert_exporter": "python",
   "pygments_lexer": "ipython3",
   "version": "3.8.8"
  }
 },
 "nbformat": 4,
 "nbformat_minor": 5
}
