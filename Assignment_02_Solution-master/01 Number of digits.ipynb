{
 "cells": [
  {
   "cell_type": "markdown",
   "id": "fcfab187",
   "metadata": {},
   "source": [
    "We recommend you to use while loop instead of:"
   ]
  },
  {
   "cell_type": "code",
   "execution_count": 1,
   "id": "1d8b8f46",
   "metadata": {},
   "outputs": [
    {
     "name": "stdout",
     "output_type": "stream",
     "text": [
      "5348\n",
      "4\n"
     ]
    }
   ],
   "source": [
    "# We don't want you do this\n",
    "num = int(input())\n",
    "print(len(str(num)))"
   ]
  },
  {
   "cell_type": "markdown",
   "id": "9372267f",
   "metadata": {},
   "source": [
    "First test the while loop to see what happened:"
   ]
  },
  {
   "cell_type": "code",
   "execution_count": 2,
   "id": "ec901510",
   "metadata": {},
   "outputs": [
    {
     "name": "stdout",
     "output_type": "stream",
     "text": [
      "1008 2\n",
      "100 3\n",
      "10 4\n",
      "1 5\n"
     ]
    }
   ],
   "source": [
    "num = 10086\n",
    "loop = 1\n",
    "while(num//10):\n",
    "    num=num//10\n",
    "    loop = loop +1 \n",
    "    print(num,loop)"
   ]
  },
  {
   "cell_type": "markdown",
   "id": "a35b6a2f",
   "metadata": {},
   "source": [
    "In each loop, we remove one digit from the number until all digits are removed. So we can count the number of digits according to the number of loops.\n",
    "\n",
    "'a//b' is the same as int(a/b), which takes the floor of the result of a/b"
   ]
  },
  {
   "cell_type": "code",
   "execution_count": 3,
   "id": "ff84108e",
   "metadata": {},
   "outputs": [
    {
     "name": "stdout",
     "output_type": "stream",
     "text": [
      "777//6 129\n",
      "777/6 129.5\n",
      "int(777/6) 129\n"
     ]
    }
   ],
   "source": [
    "print('777//6',777//6)\n",
    "print('777/6',777/6)\n",
    "print('int(777/6)',int(777/6))"
   ]
  },
  {
   "cell_type": "markdown",
   "id": "6069be88",
   "metadata": {},
   "source": [
    "The final result is:"
   ]
  },
  {
   "cell_type": "code",
   "execution_count": 4,
   "id": "e650fdd4",
   "metadata": {},
   "outputs": [
    {
     "name": "stdout",
     "output_type": "stream",
     "text": [
      "3437337\n",
      "7\n"
     ]
    }
   ],
   "source": [
    "num = int(input())\n",
    "loop = 1\n",
    "while(num//10):\n",
    "    loop += 1\n",
    "    num=num//10\n",
    "print(loop)"
   ]
  },
  {
   "cell_type": "code",
   "execution_count": null,
   "id": "e14dbb7d",
   "metadata": {},
   "outputs": [],
   "source": []
  }
 ],
 "metadata": {
  "kernelspec": {
   "display_name": "Python 3",
   "language": "python",
   "name": "python3"
  },
  "language_info": {
   "codemirror_mode": {
    "name": "ipython",
    "version": 3
   },
   "file_extension": ".py",
   "mimetype": "text/x-python",
   "name": "python",
   "nbconvert_exporter": "python",
   "pygments_lexer": "ipython3",
   "version": "3.8.8"
  }
 },
 "nbformat": 4,
 "nbformat_minor": 5
}
