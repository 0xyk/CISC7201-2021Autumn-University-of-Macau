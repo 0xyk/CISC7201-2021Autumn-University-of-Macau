{
 "cells": [
  {
   "cell_type": "markdown",
   "id": "b9962d6b",
   "metadata": {},
   "source": [
    "## 01 Printing a Trapezoid\n",
    "### Description\n",
    "Given the height ' **h** ' and bottom ' **b** ', your task is to plot a right Trapezoid using symbol ' * '\n",
    "\n",
    "For instance,\n",
    "1. h=2 and b=3, your program will print out\n",
    "\n",
    "```\n",
    "**\n",
    "***\n",
    "```\n",
    "2. h=3 and b=5, your program will print out\n",
    "\n",
    "```\n",
    "***\n",
    "****\n",
    "*****\n",
    "```\n",
    "### Input\n",
    "The input is one line containing two integer ' **b** ' and ' **h** ' being separated by a space.\n",
    "\n",
    "We guarantee\n",
    "+ b > h\n",
    "+ b > 2\n",
    "+ h > 1\n",
    "\n",
    "### Output\n",
    "A trapezoid composed by ' * '\n",
    "\n",
    "**Sample Input 1** `5 3`\n",
    "\n",
    "**Sample Output 1**\n",
    "```\n",
    "***\n",
    "****\n",
    "*****\n",
    "```\n",
    "**Sample Input 2** `7 5` \n",
    "\n",
    "**Sample Output 2**\n",
    "```\n",
    "***\n",
    "****\n",
    "*****\n",
    "******\n",
    "*******\n",
    "```\n",
    "**Sample Input 3** `4 2` \n",
    "\n",
    "**Sample Output 3**\n",
    "```\n",
    "***\n",
    "****\n",
    "```"
   ]
  },
  {
   "cell_type": "code",
   "execution_count": 1,
   "id": "5a5e4e45",
   "metadata": {},
   "outputs": [
    {
     "name": "stdout",
     "output_type": "stream",
     "text": [
      "5 3\n",
      "***\n",
      "****\n",
      "*****\n"
     ]
    }
   ],
   "source": [
    "# Solution 1\n",
    "b,h = map(int,input().split())\n",
    "\n",
    "for x in range(b-h+1,b+1):\n",
    "    print('*'*x)"
   ]
  },
  {
   "cell_type": "code",
   "execution_count": 2,
   "id": "5281ff7a",
   "metadata": {},
   "outputs": [
    {
     "name": "stdout",
     "output_type": "stream",
     "text": [
      "7 5\n",
      "***\n",
      "****\n",
      "*****\n",
      "******\n",
      "*******\n"
     ]
    }
   ],
   "source": [
    "# Solution 2\n",
    "b,h = map(int,input().split())\n",
    "for i in range(b-h,b):\n",
    "    for j in range(1,i+1):\n",
    "        print(\"*\",end=\"\")\n",
    "    print('*')"
   ]
  },
  {
   "cell_type": "markdown",
   "id": "48774520",
   "metadata": {},
   "source": [
    "## 02 Proof of Work (PoW)\n",
    "### Description\n",
    "Proof of work (PoW) describes a system that requires a not-insignificant but feasible amount of effort in order to deter frivolous or malicious uses of computing power, such as sending spam emails or launching denial of service attacks. The concept was subsequently adapted to securing digital money by Hal Finney in 2004 through the idea of \"reusable proof of work\" using the SHA-256 hashing algorithm.\n",
    "### Example of Proof of Work\n",
    "Proof of work requires a computer to randomly engage in hashing functions until it arrives at an output with the correct minimum amount of leading zeroes. For example, the hash for block #660000, mined on December 4, 2020 is 00000000000000000008eddcaf078f12c69a439dde30dbb5aac3d9d94e9c18f6. The block reward for that successful hash was 6.25 BTC.\n",
    "\n",
    "![Proof-of-work-no-purple-line.jpg](https://forkast.news/wp-content/uploads/2020/04/Proof-of-Work-832x468.jpg)\n",
    "### Your task\n",
    "Given a block header value (e.g., \"ryan\"), your task is to verify the each of work (nonce) subject to a bit difficulty.\n",
    "\n",
    "To ease your task, we already provided you the following code to generate the verification string (for \"leading zero\" checking) in hexadecimal format based on \"header\" and \"nonce\".\n",
    "```\n",
    "hashlib.sha256(str(block_header).encode('utf-8')+str(nonce).encode('utf-8')).hexdigest()\n",
    "```\n",
    "Since the \"leading zero\" checking is done in Binary, to further ease your task, we help you to convert the Hex number into a Binary string at the next line (bin_hash_result).\n",
    "### Example\n",
    "Suppose your hash function returns a binary hash string as bin_hash_result=\"00000000000001001111101010101000001100011110100010000011...........\"\n",
    "\n",
    "- if difficulty_bits=13, then you should output \"**True**\" since there are at least 13 leading zeroes in your binary hash number.\n",
    "- if difficulty_bits=14, then you should output \"**False**\" since there are only 13 leading zeroes (insufficient zeroes) in your binary hash number.\n",
    "\n",
    "### Input\n",
    "a str \"nonce\" and a int \"difficulty_bits\" in one line being separated by a space\n",
    "\n",
    "### Output\n",
    "Return \"**True**\"or \"**False**\"\n",
    "\n",
    "**Sample Input 1** \n",
    "```\n",
    "1\n",
    "18412 12\n",
    "```\n",
    "**Sample Output 1** `True`\n",
    "\n",
    "**Sample Input 2**\n",
    "```\n",
    "5\n",
    "12 4\n",
    "8 4\n",
    "7 4\n",
    "2 4\n",
    "20 4\n",
    "```\n",
    "**Sample Output 2**\n",
    "```\n",
    "False\n",
    "False\n",
    "False\n",
    "False\n",
    "True\n",
    "```\n",
    "### Hint\n",
    "- You can make the verification faster if you use math operator (instead of string checking) to check the difficulty.\n",
    "- Please be noted that the number of \"work\" can be up to millions or hundreds millions in a mining game of BitCoin."
   ]
  },
  {
   "cell_type": "code",
   "execution_count": 3,
   "id": "18a1cbf3",
   "metadata": {},
   "outputs": [
    {
     "name": "stdout",
     "output_type": "stream",
     "text": [
      "1\n",
      "18412 12\n",
      "True\n"
     ]
    }
   ],
   "source": [
    "# Solution\n",
    "import hashlib\n",
    "\n",
    "def proof_of_work(nonce,difficulty_bits):\n",
    "    block_header = 'ryan'\n",
    "    hash_result = hashlib.sha256(str(block_header).encode('utf-8')+str(nonce).encode('utf-8')).hexdigest()\n",
    "    bin_hash_result = bin(int(hash_result,16))[2:].zfill(256) # bin_hash_result is a binary string\n",
    "    # write your code here\n",
    "    # return answer which is a bool indicating the proof of work\n",
    "    count=0\n",
    "    for x in bin_hash_result:\n",
    "        if x=='1':\n",
    "            break\n",
    "        else:\n",
    "            count+=1\n",
    "    if count>=difficulty_bits:\n",
    "        return True\n",
    "    else:\n",
    "        return False    \n",
    "\n",
    "n=int(input())\n",
    "for i in range(n):\n",
    "    nonce,difficulty_bits = input().split(' ')\n",
    "    difficulty_bits= int(difficulty_bits)\n",
    "    answer = proof_of_work(nonce, difficulty_bits)\n",
    "    print(answer)"
   ]
  },
  {
   "cell_type": "code",
   "execution_count": 4,
   "id": "139a346e",
   "metadata": {},
   "outputs": [
    {
     "name": "stdout",
     "output_type": "stream",
     "text": [
      "5\n",
      "12 4\n",
      "False\n",
      "8 4\n",
      "False\n",
      "7 4\n",
      "False\n",
      "2 4\n",
      "False\n",
      "20 4\n",
      "True\n"
     ]
    }
   ],
   "source": [
    "# Solution\n",
    "import hashlib\n",
    "\n",
    "def proof_of_work(nonce,difficulty_bits):\n",
    "    block_header = 'ryan'\n",
    "    hash_result = hashlib.sha256(str(block_header).encode('utf-8')+str(nonce).encode('utf-8')).hexdigest()\n",
    "    bin_hash_result = bin(int(hash_result,16))[2:].zfill(256) # bin_hash_result is a binary string\n",
    "    # write your code here\n",
    "    # return answer which is a bool indicating the proof of work\n",
    "    count=0\n",
    "    for x in bin_hash_result:\n",
    "        if x=='1':\n",
    "            break\n",
    "        else:\n",
    "            count+=1\n",
    "    if count>=difficulty_bits:\n",
    "        return True\n",
    "    else:\n",
    "        return False    \n",
    "\n",
    "n=int(input())\n",
    "for i in range(n):\n",
    "    nonce,difficulty_bits = input().split(' ')\n",
    "    difficulty_bits= int(difficulty_bits)\n",
    "    answer = proof_of_work(nonce, difficulty_bits)\n",
    "    print(answer)"
   ]
  },
  {
   "cell_type": "markdown",
   "id": "ccfb1663",
   "metadata": {},
   "source": [
    "## 03 Find Substrings\n",
    "### Description\n",
    "Find all the occurrences of the substring ' **t** ' in the string ' **s** '.\n",
    "### Input\n",
    "The input is one line containing two string ' **t** ' and ' **s** ' being separated by a space.\n",
    "### Output\n",
    "Return  integer, where the substring ' **t** ' occurs in the string ' **s** '.\n",
    "\n",
    "**Sample Input 1** `rr rrrr`\n",
    "\n",
    "**Sample Output 1** `0,1,2`\n",
    "\n",
    "**Sample Input 2** `hello hellojohn,hell,asoa,asasdhelloaq,123` \n",
    "\n",
    "**Sample Output 2** `0,25`"
   ]
  },
  {
   "cell_type": "code",
   "execution_count": 5,
   "id": "4a07afb1",
   "metadata": {},
   "outputs": [
    {
     "name": "stdout",
     "output_type": "stream",
     "text": [
      "rr rrrr\n",
      "0,1,2\n"
     ]
    }
   ],
   "source": [
    "# Solution 1\n",
    "t,s = input().split()\n",
    "\n",
    "re = []\n",
    "for i in range(len(s)):\n",
    "    if (i+len(t)<=len(s)):\n",
    "        if s[i: i+len(t)]==t:\n",
    "            re.append(i)\n",
    "            \n",
    "print(\",\".join(str(j) for j in re))"
   ]
  },
  {
   "cell_type": "code",
   "execution_count": 6,
   "id": "1dc8850e",
   "metadata": {},
   "outputs": [
    {
     "name": "stdout",
     "output_type": "stream",
     "text": [
      "hello hellojohn,hell,asoa,asasdhelloaq,123\n",
      "0,25\n"
     ]
    }
   ],
   "source": [
    "# Solution 2\n",
    "t,s = input().split()\n",
    "\n",
    "indices = []\n",
    "index = s.find(t)\n",
    "while index != -1:\n",
    "    indices.append(index)\n",
    "    index = s.find(t, index + 1)\n",
    "\n",
    "print(\",\".join(str(i) for i in indices))"
   ]
  },
  {
   "cell_type": "code",
   "execution_count": 7,
   "id": "18b7b6a8",
   "metadata": {},
   "outputs": [
    {
     "name": "stdout",
     "output_type": "stream",
     "text": [
      "hello hellojohn,hell,asoa,asasdhelloaq,123\n",
      "0,25\n"
     ]
    }
   ],
   "source": [
    "# Solution 3\n",
    "def kmp_search(t, s):\n",
    "    # Preprocess the pattern string to compute the lcp (longest prefix suffix) array\n",
    "    lcp = [0] * len(t)\n",
    "    j = 0\n",
    "    for i in range(1, len(t)):\n",
    "        while j > 0 and t[j] != t[i]:\n",
    "            j = lcp[j - 1]\n",
    "        if t[j] == t[i]:\n",
    "            j += 1\n",
    "        lcp[i] = j\n",
    "\n",
    "    # Search for the pattern in the text\n",
    "    indices = []\n",
    "    j = 0\n",
    "    for i in range(len(s)):\n",
    "        while j > 0 and t[j] != s[i]:\n",
    "            j = lcp[j - 1]\n",
    "        if t[j] == s[i]:\n",
    "            j += 1\n",
    "        if j == len(t):\n",
    "            indices.append(i - len(t) + 1)\n",
    "            j = lcp[j - 1]\n",
    "\n",
    "    return indices\n",
    "\n",
    "t,s = input().split()\n",
    "indices = kmp_search(t, s)\n",
    "print(\",\".join(str(i) for i in indices))"
   ]
  },
  {
   "cell_type": "markdown",
   "id": "927e08f9",
   "metadata": {},
   "source": [
    "##  04 Multiple-choice questions, true-false questions, and essay questions (Omitted)"
   ]
  }
 ],
 "metadata": {
  "kernelspec": {
   "display_name": "Python 3",
   "language": "python",
   "name": "python3"
  },
  "language_info": {
   "codemirror_mode": {
    "name": "ipython",
    "version": 3
   },
   "file_extension": ".py",
   "mimetype": "text/x-python",
   "name": "python",
   "nbconvert_exporter": "python",
   "pygments_lexer": "ipython3",
   "version": "3.8.8"
  }
 },
 "nbformat": 4,
 "nbformat_minor": 5
}
