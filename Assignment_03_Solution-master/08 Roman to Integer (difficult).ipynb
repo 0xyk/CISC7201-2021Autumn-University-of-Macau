{
 "cells": [
  {
   "cell_type": "markdown",
   "metadata": {},
   "source": [
    "# Roman to Integer (difficult)"
   ]
  },
  {
   "cell_type": "markdown",
   "metadata": {},
   "source": [
    "Description:\n",
    "\n",
    "Roman numerals are represented by seven different symbols: I, V, X, L, C, D and M.\n",
    "\n",
    "Symbol       Value\n",
    "\n",
    "I           1\n",
    "\n",
    "V          5\n",
    "\n",
    "X          10\n",
    "\n",
    "L           50\n",
    "\n",
    "C          100\n",
    "\n",
    "D          500\n",
    "\n",
    "M         1000\n",
    "\n",
    "Example:\n",
    "\n",
    "1)2 is written as II in Roman numeral, just two one's added together;\n",
    "\n",
    "2)12 is written as XII, which is simply X + II;\n",
    "\n",
    "3)27 is written as XXVII, which is XX + V + II.\n",
    "\n",
    "[Special handling]\n",
    "\n",
    "Roman numerals are usually written largest to smallest digits from left to right. However, we have two special handling for number 4 and number 9.\n",
    "\n",
    "1)The numeral of 4 is not IIII. Instead, the number four is written as IV.\n",
    "\n",
    "2)The same principle applies to the numeral of 9, which is written as IX.\n",
    "\n",
    "Example:\n",
    "\n",
    "I can placed before V (5) and X (10) to make 4 and 9.\n",
    "\n",
    "X can be placed before L (50) and C (100) to make 40 and 90.\n",
    "\n",
    "C can be placed before D (500) and M (1000) to make 400 and 900.\n",
    "\n",
    "Your task is to convert a roman numeral into an integer.\n",
    "\n",
    "\n",
    "\n",
    "\n",
    "\n"
   ]
  },
  {
   "cell_type": "markdown",
   "metadata": {},
   "source": [
    "First input a string"
   ]
  },
  {
   "cell_type": "code",
   "execution_count": null,
   "metadata": {},
   "outputs": [],
   "source": [
    "s=input()"
   ]
  },
  {
   "cell_type": "markdown",
   "metadata": {},
   "source": [
    "# Solution"
   ]
  },
  {
   "cell_type": "code",
   "execution_count": null,
   "metadata": {},
   "outputs": [],
   "source": [
    "s=input()\n",
    "sum=0        \n",
    "# Initialize the result.\n",
    "diction={'M': 1000,'D': 500 ,'C': 100,'L': 50,'X': 10,'V': 5,'I': 1} \n",
    "#Create the dictionary.\n",
    "# From the description, we can find the last symbol must be summed in the final value.\n",
    "# For two adjacent symbols, \n",
    "# 1)if the former one is smaller than the latter one, in the final result, we need to minus the former number\n",
    "# 2)if the former one is greater than the latter one, in the final result, we just add the former number\n",
    "for i in range(len(s)-1):   \n",
    "   # use for loop to judge minus or add the number for all symbol except the last one\n",
    "   # because there is no other symbol behind it         \n",
    "   if diction[s[i]] < diction[s[i+1]]:                \n",
    "      sum -= diction[s[i]]  \n",
    "      # smaller, minus          \n",
    "   else:                \n",
    "      sum += diction[s[i]]   \n",
    "      # geater, add     \n",
    "sum += diction[s[-1]]   \n",
    "# sum the final one     \n",
    "print(sum)"
   ]
  }
 ],
 "metadata": {
  "kernelspec": {
   "display_name": "PyCharm (Python)",
   "language": "python",
   "name": "pycharm-a555b8c5"
  },
  "language_info": {
   "codemirror_mode": {
    "name": "ipython",
    "version": 3
   },
   "file_extension": ".py",
   "mimetype": "text/x-python",
   "name": "python",
   "nbconvert_exporter": "python",
   "pygments_lexer": "ipython3",
   "version": "3.9.0"
  }
 },
 "nbformat": 4,
 "nbformat_minor": 4
}
