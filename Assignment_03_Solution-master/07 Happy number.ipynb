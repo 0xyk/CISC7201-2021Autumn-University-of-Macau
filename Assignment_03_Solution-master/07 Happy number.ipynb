{
 "cells": [
  {
   "cell_type": "markdown",
   "metadata": {},
   "source": [
    "# Happy number"
   ]
  },
  {
   "cell_type": "markdown",
   "metadata": {},
   "source": [
    "Description:\n",
    "\n",
    "Write an algorithm to determine if a number n is happy.\n",
    "\n",
    "A happy number \"n\" is a number defined by the following process:\n",
    "\n",
    "(1) Replace the number by the sum of squares of its digits, e.g., 19 = 1x1 + 9x9 = 82\n",
    "\n",
    "(2) Repeat step (1) until\n",
    "\n",
    "i.the number equals 1 (where it will stay) or\n",
    "\n",
    "ii.it loops endlessly in a cycle which does not include 1.\n",
    "\n",
    "We say that a number is a happy number if and only if the above processreturns 1.\n",
    "\n",
    "\n"
   ]
  },
  {
   "cell_type": "markdown",
   "metadata": {},
   "source": [
    "First input a number"
   ]
  },
  {
   "cell_type": "code",
   "execution_count": null,
   "metadata": {},
   "outputs": [],
   "source": [
    "num=int(input())"
   ]
  },
  {
   "cell_type": "markdown",
   "metadata": {},
   "source": [
    "# Solution"
   ]
  },
  {
   "cell_type": "code",
   "execution_count": null,
   "metadata": {},
   "outputs": [],
   "source": [
    "# a\n",
    "# Use while loop and 'set' to judge,\n",
    "num=int(input())\n",
    "mem = set()    \n",
    "# The element in the set should be different           \n",
    "while num != 1:                 \n",
    "    num = sum([int(i)**2 for i in str(num)])   \n",
    "    if num not in mem:\n",
    "        # to judge whether there is a endless cycle   \n",
    "        mem.add(num)\n",
    "    else:                 \n",
    "        print(\"False\")\n",
    "        break\n",
    "        # if there is a endless cycle, the function will print 'False'\n",
    "else:\n",
    "    print(\"True\")"
   ]
  },
  {
   "cell_type": "code",
   "execution_count": null,
   "metadata": {},
   "outputs": [],
   "source": [
    "# b\n",
    "# Like solution a, but there is a list ans replace set, and use append to add the numbers\n",
    "num=int(input())\n",
    "def isHappy(n):\n",
    "    ans = []\n",
    "    while n!=1:\n",
    "        num = sum([int(i)**2 for i in str(n)])\n",
    "        if num in ans:\n",
    "           return False\n",
    "        elif num == 1:\n",
    "           return True\n",
    "        else:\n",
    "           ans.append(num)\n",
    "print(isHappy(num))"
   ]
  }
 ],
 "metadata": {
  "kernelspec": {
   "display_name": "PyCharm (Python)",
   "language": "python",
   "name": "pycharm-a555b8c5"
  },
  "language_info": {
   "codemirror_mode": {
    "name": "ipython",
    "version": 3
   },
   "file_extension": ".py",
   "mimetype": "text/x-python",
   "name": "python",
   "nbconvert_exporter": "python",
   "pygments_lexer": "ipython3",
   "version": "3.9.0"
  }
 },
 "nbformat": 4,
 "nbformat_minor": 4
}
