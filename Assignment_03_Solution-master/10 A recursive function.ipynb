{
 "cells": [
  {
   "cell_type": "markdown",
   "metadata": {},
   "source": [
    "# Add all prime numbers"
   ]
  },
  {
   "cell_type": "markdown",
   "metadata": {},
   "source": [
    "Description:\n",
    "\n",
    "Given a list of integers, your task is to identify all prime numbers using function \"reduce()\" and print the sum of the prime numbers.\n",
    "\n",
    "Reference\n",
    "\n",
    "As introduced in the class, reduce() is a function in functools. Detail usage can be found in\n",
    "\n",
    "https://docs.python.org/3/library/functools.html\n",
    "\n",
    "https://www.geeksforgeeks.org/reduce-in-python/\n",
    "\n",
    "\n",
    "\n",
    "\n"
   ]
  },
  {
   "cell_type": "markdown",
   "metadata": {},
   "source": [
    "First spilt the input into a list(nums)"
   ]
  },
  {
   "cell_type": "code",
   "execution_count": null,
   "metadata": {},
   "outputs": [],
   "source": [
    "nums=[int(i) for i in input().split(',')]"
   ]
  },
  {
   "cell_type": "markdown",
   "metadata": {},
   "source": [
    "# Solution"
   ]
  },
  {
   "cell_type": "code",
   "execution_count": null,
   "metadata": {},
   "outputs": [],
   "source": [
    "import math\n",
    "from functools import reduce\n",
    "nums = [int(x) for x in input().split(',')]\n",
    "def is_prime(num):\n",
    "  for i in range(2,int(math.sqrt(num))+1):\n",
    "    if num %i ==0:\n",
    "      return 0\n",
    "  else:\n",
    "    return num\n",
    "#Judge whether this number is a prime number or not, if the number is prime number, return the number\n",
    "print(reduce(lambda x,y:x+y,map(is_prime,nums)))\n",
    "# for the numbers in nums, use is_prime to judge the whether these numbers are prime numbers or not\n",
    "# The reduce() function takes in a function and a list as an argument.\n",
    "# The function is lambda x,y:x+y and the list is map(is_prime,nums)"
   ]
  }
 ],
 "metadata": {
  "kernelspec": {
   "display_name": "PyCharm (Python)",
   "language": "python",
   "name": "pycharm-a555b8c5"
  },
  "language_info": {
   "codemirror_mode": {
    "name": "ipython",
    "version": 3
   },
   "file_extension": ".py",
   "mimetype": "text/x-python",
   "name": "python",
   "nbconvert_exporter": "python",
   "pygments_lexer": "ipython3",
   "version": "3.9.0"
  }
 },
 "nbformat": 4,
 "nbformat_minor": 4
}
