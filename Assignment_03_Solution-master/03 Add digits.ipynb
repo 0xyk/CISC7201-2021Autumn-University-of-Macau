{
 "cells": [
  {
   "cell_type": "markdown",
   "id": "af681497",
   "metadata": {},
   "source": [
    "# Add digits"
   ]
  },
  {
   "cell_type": "markdown",
   "id": "8486b763",
   "metadata": {},
   "source": [
    "Description\n",
    "\n",
    "Given an integer number < 100, repeatedly sum the digits of number until the sum has only one digit.\n",
    "\n",
    "Explanation: The process is\n",
    "\n",
    "58 --> 5 + 8 --> 13\n",
    "\n",
    "13 --> 1 + 3 --> 4\n",
    "\n",
    "Since 4 has only one digit, the result is 4.\n"
   ]
  },
  {
   "cell_type": "code",
   "execution_count": null,
   "id": "e3a47c8c",
   "metadata": {},
   "outputs": [],
   "source": [
    "#First inout the numbers\n",
    "num = int(input())"
   ]
  },
  {
   "cell_type": "markdown",
   "metadata": {},
   "source": [
    "# Solution"
   ]
  },
  {
   "cell_type": "code",
   "execution_count": null,
   "metadata": {},
   "outputs": [],
   "source": [
    "#a \n",
    "# Calculate the result of ones digit and tens digit respectively in a while loop until the number is smaller than 10\n",
    "\n",
    "num = int(input())\n",
    "while num > 10:\n",
    "    num=num//10 +num%10\n",
    "print(num)"
   ]
  },
  {
   "cell_type": "code",
   "execution_count": null,
   "metadata": {},
   "outputs": [],
   "source": [
    "#b \n",
    "# Trans the number to a string, then converte each element of string to an integer and appended to a list.Finally sum them up.\n",
    "num = int(input())\n",
    "def num_sum(n):\n",
    "    num_list=[]\n",
    "    for x in str(n):\n",
    "    # trans to string\n",
    "        num_list.append(int(x))\n",
    "    # trans to integert and append in a list   \n",
    "    return sum(num_list)\n",
    "    # sum the number of the list up\n",
    "a=num_sum(num)\n",
    "while a >10:\n",
    "    a=num_sum(num)\n",
    "    num=a\n",
    "print(a)"
   ]
  }
 ],
 "metadata": {
  "kernelspec": {
   "display_name": "Python 3",
   "language": "python",
   "name": "python3"
  },
  "language_info": {
   "codemirror_mode": {
    "name": "ipython",
    "version": 3
   },
   "file_extension": ".py",
   "mimetype": "text/x-python",
   "name": "python",
   "nbconvert_exporter": "python",
   "pygments_lexer": "ipython3",
   "version": "3.6.13"
  }
 },
 "nbformat": 4,
 "nbformat_minor": 5
}
