{
 "cells": [
  {
   "cell_type": "markdown",
   "metadata": {},
   "source": [
    "# Convert two lists into the dictionary"
   ]
  },
  {
   "cell_type": "markdown",
   "metadata": {},
   "source": [
    "Description\n",
    "\n",
    "Given a list of keys and a list of values, your need 'convert' them into a dictionary.\n",
    "\n",
    "Your task is to implement to 'makedict'function, two list(keys and values) is passed to the function, you need to return the dictionary object.\n",
    "\n",
    "All the key and value are in str type.\n",
    "\n",
    "\n",
    "\n"
   ]
  },
  {
   "cell_type": "markdown",
   "metadata": {},
   "source": [
    "Hint:\n",
    "\n",
    "You could first try to do this task by yourself and then find a method zip() from 'dictionary' to make it done.\n",
    "\n"
   ]
  },
  {
   "cell_type": "markdown",
   "metadata": {},
   "source": [
    "# Solution"
   ]
  },
  {
   "cell_type": "code",
   "execution_count": null,
   "metadata": {},
   "outputs": [],
   "source": [
    "#a\n",
    "def makedict(keys,values)-> dict:\n",
    "  a_dict = dict(zip(keys, values))\n",
    "  return a_dict\n",
    "# The zip() function takes iterables (can be zero or more), aggregates them in a tuple, and returns it.\n",
    "keys = ['10', '20', '30']\n",
    "values = ['Ten', 'Twenty', 'Thirty']\n",
    "# two lists need to convert\n",
    "a_dict = makedict(keys,values)\n",
    "print(a_dict)"
   ]
  },
  {
   "cell_type": "code",
   "execution_count": null,
   "metadata": {},
   "outputs": [],
   "source": [
    "#b \n",
    "# you can use other way to solve this problem like for_loop\n",
    "def makedict(keys,values)-> dict:\n",
    "  a_dict = dict()\n",
    "  a_dict = {keys[i]: values[i] for i in range(len(keys))}\n",
    "  return a_dict\n",
    "# we create the dictionary one by one using the for loop.\n",
    "keys = ['10', '20', '30']\n",
    "values = ['Ten', 'Twenty', 'Thirty']\n",
    "# two lists need to convert\n",
    "a_dict = makedict(keys,values)\n",
    "print(a_dict)"
   ]
  }
 ],
 "metadata": {
  "kernelspec": {
   "display_name": "Python 3",
   "language": "python",
   "name": "python3"
  },
  "language_info": {
   "codemirror_mode": {
    "name": "ipython",
    "version": 3
   },
   "file_extension": ".py",
   "mimetype": "text/x-python",
   "name": "python",
   "nbconvert_exporter": "python",
   "pygments_lexer": "ipython3",
   "version": "3.6.13"
  }
 },
 "nbformat": 4,
 "nbformat_minor": 5
}
