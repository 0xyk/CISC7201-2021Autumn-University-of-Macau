{
 "cells": [
  {
   "cell_type": "markdown",
   "id": "f62f5fd4",
   "metadata": {},
   "source": [
    "# Find an insert position"
   ]
  },
  {
   "cell_type": "markdown",
   "id": "b04696bc",
   "metadata": {},
   "source": [
    "Description\n",
    "\n",
    "Given a target value and a sorted array of distinct integers, return the index if the target is found. If not, return the index in which it should be inserted.\n",
    "\n",
    "Example:\n",
    "\n",
    "input \n",
    "\n",
    "5 1 3 5 6\n",
    "\n",
    "output\n",
    "\n",
    "2\n",
    "\n",
    "Because 5>3,5<=5"
   ]
  },
  {
   "cell_type": "markdown",
   "id": "ab484c11",
   "metadata": {},
   "source": [
    "First spilt the input into target and a list(nums)"
   ]
  },
  {
   "cell_type": "code",
   "execution_count": null,
   "id": "49f60b3d",
   "metadata": {},
   "outputs": [],
   "source": [
    "target,nums = input().split(' ',1)\n",
    "target = int(target)\n",
    "nums=[int(i) for i in nums.split()]"
   ]
  },
  {
   "cell_type": "markdown",
   "metadata": {},
   "source": [
    "# Solution"
   ]
  },
  {
   "cell_type": "markdown",
   "id": "cad32b92",
   "metadata": {},
   "source": [
    "Now we need to define a funtion to find the index of target."
   ]
  },
  {
   "cell_type": "code",
   "execution_count": null,
   "id": "80816f56",
   "metadata": {},
   "outputs": [],
   "source": [
    "\n",
    "# a\n",
    "def SearchInsertPosition(target,nums):\n",
    "    for index in range(0,len(nums)):\n",
    "    # use for loop to find the index\n",
    "        if target == nums[index]:\n",
    "            return index\n",
    "            \n",
    "        if  target < nums[index]:\n",
    "            return index\n",
    "    # Because there is a sorted array, so we just need to find: \n",
    "    # 1 the index of the number which is same to the target\n",
    "    # 2 the index of the first number which is smaller than the target\n"
   ]
  }
 ],
 "metadata": {
  "interpreter": {
   "hash": "5013045dc82a36df64c8c2f3d7e52f42e81dc372a5e8fb5cb6a136c3271f005d"
  },
  "kernelspec": {
   "display_name": "Python 3.7.10 64-bit ('causal': conda)",
   "name": "python3"
  },
  "language_info": {
   "codemirror_mode": {
    "name": "ipython",
    "version": 3
   },
   "file_extension": ".py",
   "mimetype": "text/x-python",
   "name": "python",
   "nbconvert_exporter": "python",
   "pygments_lexer": "ipython3",
   "version": "3.7.10"
  }
 },
 "nbformat": 4,
 "nbformat_minor": 5
}
