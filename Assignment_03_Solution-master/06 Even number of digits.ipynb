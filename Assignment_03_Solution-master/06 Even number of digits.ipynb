{
 "cells": [
  {
   "cell_type": "markdown",
   "metadata": {},
   "source": [
    "# Even number of digits"
   ]
  },
  {
   "cell_type": "markdown",
   "metadata": {},
   "source": [
    "Description:\n",
    "\n",
    "Given an array of integers, return the number of integers that have even number of digits.\n",
    "\n",
    "Example\n",
    "\n",
    "nums = [12,345,2,6,7896]\n",
    "\n",
    "1. 12 contains 2 digits (even number of digits).\n",
    "2. 345 contains 3 digits (odd number of digits).\n",
    "3. 2 contains 1 digit (odd number of digits).\n",
    "4. 6 contains 1 digit (odd number of digits).\n",
    "5. 7896 contains 4 digits (even number of digits).\n",
    "\n",
    "Only 12 and 7896 contain the even number of digits so the answer is 2.\n",
    "\n",
    "\n"
   ]
  },
  {
   "cell_type": "markdown",
   "metadata": {},
   "source": [
    "First spilt the input into a list(nums)"
   ]
  },
  {
   "cell_type": "code",
   "execution_count": null,
   "metadata": {},
   "outputs": [],
   "source": [
    "nums=[int(i) for i in input().split()]"
   ]
  },
  {
   "cell_type": "markdown",
   "metadata": {},
   "source": [
    "# Solution"
   ]
  },
  {
   "cell_type": "code",
   "execution_count": null,
   "metadata": {},
   "outputs": [],
   "source": [
    "# a\n",
    "# Judge the number one by one using for_loop and count the results\n",
    "count = 0\n",
    "for num in nums:\n",
    "    if len(str(num))%2 == 0:\n",
    "        count += 1\n",
    "print(count)"
   ]
  },
  {
   "cell_type": "code",
   "execution_count": null,
   "metadata": {},
   "outputs": [],
   "source": [
    "# b\n",
    "# Like solution a, but it appends the number which is even to a list, then count the result\n",
    "h=[]\n",
    "for i in nums:\n",
    "    if len(str(i))%2==0:\n",
    "        h.append(i)\n",
    "print(len(h))"
   ]
  }
 ],
 "metadata": {
  "kernelspec": {
   "display_name": "PyCharm (Python)",
   "language": "python",
   "name": "pycharm-a555b8c5"
  },
  "language_info": {
   "codemirror_mode": {
    "name": "ipython",
    "version": 3
   },
   "file_extension": ".py",
   "mimetype": "text/x-python",
   "name": "python",
   "nbconvert_exporter": "python",
   "pygments_lexer": "ipython3",
   "version": "3.9.0"
  }
 },
 "nbformat": 4,
 "nbformat_minor": 4
}
