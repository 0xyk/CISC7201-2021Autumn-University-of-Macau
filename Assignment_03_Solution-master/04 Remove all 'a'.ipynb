{
 "cells": [
  {
   "cell_type": "markdown",
   "metadata": {},
   "source": [
    "# Remove all 'a'"
   ]
  },
  {
   "cell_type": "markdown",
   "metadata": {},
   "source": [
    "Description\n",
    "\n",
    "Suppose there is a bug on the app that all the messages containing character 'a'  will be deleted. In order to communicate with others, you need to remove all character 'a' in your message (sentences).\n",
    "\n",
    "Only 'a' (lower case) is banned, 'A' (upper case) is OK.\n",
    "\n",
    "\n"
   ]
  },
  {
   "cell_type": "markdown",
   "metadata": {},
   "source": [
    "# Hint"
   ]
  },
  {
   "cell_type": "markdown",
   "metadata": {},
   "source": [
    "You are free to use 'replace', but you are encouraged to try without it"
   ]
  },
  {
   "cell_type": "markdown",
   "metadata": {},
   "source": [
    "# Solution"
   ]
  },
  {
   "cell_type": "code",
   "execution_count": null,
   "metadata": {},
   "outputs": [],
   "source": [
    "# a. replace function\n",
    "s = input()\n",
    "print(s.replace('a',''))"
   ]
  },
  {
   "cell_type": "code",
   "execution_count": null,
   "metadata": {},
   "outputs": [],
   "source": [
    "# b. use for_loop to replace 'a'\n",
    "s = input()\n",
    "y=[]\n",
    "# y is a list\n",
    "for x in s:\n",
    "    if x!='a':\n",
    "        y.append(x)      \n",
    "print(*y,sep='')\n",
    "# sep is not a function, it just a parameter in print, it define the nterval symbol between the output data"
   ]
  }
 ],
 "metadata": {
  "kernelspec": {
   "display_name": "PyCharm (Python)",
   "language": "python",
   "name": "pycharm-a555b8c5"
  },
  "language_info": {
   "codemirror_mode": {
    "name": "ipython",
    "version": 3
   },
   "file_extension": ".py",
   "mimetype": "text/x-python",
   "name": "python",
   "nbconvert_exporter": "python",
   "pygments_lexer": "ipython3",
   "version": "3.9.0"
  }
 },
 "nbformat": 4,
 "nbformat_minor": 4
}
