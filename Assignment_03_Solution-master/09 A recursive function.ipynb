{
 "cells": [
  {
   "cell_type": "markdown",
   "metadata": {},
   "source": [
    "# A recursive function"
   ]
  },
  {
   "cell_type": "markdown",
   "metadata": {},
   "source": [
    "Description:\n",
    "\n",
    "In this problem, you need to implement the following recursive function：\n",
    "\n",
    "$$x_{n}=\\frac{1}{n-1}\\left(x_{n-1}+\\frac{1}{x_{n-1}}\\right)$$\n",
    "\n",
    "where, $x_{1}=1$\n",
    "\n",
    "Your answer is required to keep two decimal places.\n",
    "\n",
    "The input is the n of this function, and the output should be keep two decimal places\n",
    "\n",
    "\n",
    "\n",
    "\n"
   ]
  },
  {
   "cell_type": "markdown",
   "metadata": {},
   "source": [
    "First input a number"
   ]
  },
  {
   "cell_type": "code",
   "execution_count": null,
   "metadata": {},
   "outputs": [],
   "source": [
    "n=int(input())"
   ]
  },
  {
   "cell_type": "markdown",
   "metadata": {},
   "source": [
    "# Solution"
   ]
  },
  {
   "cell_type": "code",
   "execution_count": null,
   "metadata": {},
   "outputs": [],
   "source": [
    "def f(n):\n",
    "  if n==1:\n",
    "    return 1\n",
    "    # f(1) equal to 1\n",
    "  else:\n",
    "    return 1/(n-1) * ((f(n-1))+1/f(n-1))\n",
    "    #f(n) can be express as f(n)=1/(n-1)*((f(n-1))+1/f(n-1))\n",
    "n = int(input())\n",
    "print(\"%.2f\"%f(n))\n",
    "#keep two decimal places"
   ]
  }
 ],
 "metadata": {
  "kernelspec": {
   "display_name": "PyCharm (Python)",
   "language": "python",
   "name": "pycharm-a555b8c5"
  },
  "language_info": {
   "codemirror_mode": {
    "name": "ipython",
    "version": 3
   },
   "file_extension": ".py",
   "mimetype": "text/x-python",
   "name": "python",
   "nbconvert_exporter": "python",
   "pygments_lexer": "ipython3",
   "version": "3.9.0"
  }
 },
 "nbformat": 4,
 "nbformat_minor": 4
}
