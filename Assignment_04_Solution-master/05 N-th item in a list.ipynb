{
 "cells": [
  {
   "cell_type": "markdown",
   "metadata": {},
   "source": [
    "# N-th item in a list"
   ]
  },
  {
   "cell_type": "markdown",
   "metadata": {},
   "source": [
    "Description\n",
    "Here is a list:\n",
    "\n",
    "1,11,21,1211,111221,312211,13112221,...,\n",
    "\n",
    "Each item in the list is a description of the previous item.\n",
    "\n",
    "The first one is 1. Then describe theprevious item, \" one 1\", then second item is 11.\n",
    "\n",
    "To describe the previous item, \" two 1\", then third item is 21.\n",
    "\n",
    "To describe the previous item, \" one 2, one 1\", then 4th item is 1211.\n",
    "\n",
    "To describe the previous item, \" one 1, one 2, two 1\", then 5th item is 111221.\n",
    "\n",
    "\n"
   ]
  },
  {
   "cell_type": "markdown",
   "metadata": {},
   "source": [
    "# Solution"
   ]
  },
  {
   "cell_type": "code",
   "execution_count": null,
   "metadata": {},
   "outputs": [],
   "source": [
    "n = int(input())\n",
    "result_list=[1]\n",
    "for j in range(n-1):\n",
    "    last_num=str(result_list[-1])\n",
    "    num=''\n",
    "    count=1\n",
    "    for i in range(len(last_num)):\n",
    "        if i==len(last_num)-1:\n",
    "            num=num+str(count)+str(last_num[i])\n",
    "            result_list.append(num)\n",
    "        else:\n",
    "            if(last_num[i+1]==last_num[i]):\n",
    "                count=count+1\n",
    "            else:\n",
    "                num=num+str(count)+str(last_num[i])\n",
    "                count=1\n",
    "print(result_list[-1])"
   ]
  }
 ],
 "metadata": {
  "kernelspec": {
   "display_name": "PyCharm (Python)",
   "language": "python",
   "name": "pycharm-a555b8c5"
  },
  "language_info": {
   "codemirror_mode": {
    "name": "ipython",
    "version": 3
   },
   "file_extension": ".py",
   "mimetype": "text/x-python",
   "name": "python",
   "nbconvert_exporter": "python",
   "pygments_lexer": "ipython3",
   "version": "3.9.0"
  }
 },
 "nbformat": 4,
 "nbformat_minor": 4
}
