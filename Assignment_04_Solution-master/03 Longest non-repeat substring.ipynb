{
 "cells": [
  {
   "cell_type": "markdown",
   "id": "af681497",
   "metadata": {},
   "source": [
    "# Longest non-repeat substring"
   ]
  },
  {
   "cell_type": "markdown",
   "id": "8486b763",
   "metadata": {},
   "source": [
    "Description\n",
    "\n",
    "Given a string s, output the length of the longest substring without repetition.\n",
    "\n",
    "For example, the longest non-repeat substring for 'abcabcabc' is 'abc' or 'bca' or 'cab', so the output is 3.\n",
    "\n",
    "The longest non-repeatsubstringfor 'awwbwg' is 'bwg', so the output is 3.\n"
   ]
  },
  {
   "cell_type": "code",
   "execution_count": null,
   "id": "eb1ab338",
   "metadata": {},
   "outputs": [],
   "source": [
    "s = input()\n",
    "#double pointers\n",
    "l=0\n",
    "r=1"
   ]
  },
  {
   "cell_type": "markdown",
   "id": "61ffc290",
   "metadata": {},
   "source": [
    "Use double Pointers"
   ]
  },
  {
   "cell_type": "code",
   "execution_count": null,
   "id": "e3a47c8c",
   "metadata": {},
   "outputs": [],
   "source": [
    "#initialize the result lens\n",
    "lens=0\n",
    "while r<len(s):\n",
    "    lens=max(lens,r-l)\n",
    "    while s[r] in s[l:r]:\n",
    "        l+=1\n",
    "    r+=1\n",
    "lens=max(lens,r-l)\n",
    "print(lens)"
   ]
  }
 ],
 "metadata": {
  "kernelspec": {
   "display_name": "Python 3",
   "language": "python",
   "name": "python3"
  },
  "language_info": {
   "codemirror_mode": {
    "name": "ipython",
    "version": 3
   },
   "file_extension": ".py",
   "mimetype": "text/x-python",
   "name": "python",
   "nbconvert_exporter": "python",
   "pygments_lexer": "ipython3",
   "version": "3.6.13"
  }
 },
 "nbformat": 4,
 "nbformat_minor": 5
}
