{
 "cells": [
  {
   "cell_type": "markdown",
   "id": "f62f5fd4",
   "metadata": {},
   "source": [
    "#Rotate matrix"
   ]
  },
  {
   "cell_type": "markdown",
   "id": "dd9acc16",
   "metadata": {},
   "source": [
    "This problem is essentially about the multiply method"
   ]
  },
  {
   "cell_type": "markdown",
   "id": "b04696bc",
   "metadata": {},
   "source": [
    "Description of the problem\n",
    "\n",
    "Given a n × n matrix , please rotate the matrix 90 degrees clockwise.\n",
    "\n",
    "eg. \n",
    "[[1,2],[3,4]] -> [[3,1],[4,2]]\n"
   ]
  },
  {
   "cell_type": "markdown",
   "id": "ab484c11",
   "metadata": {},
   "source": [
    "First spilt the input into dimension n and array numbers\n",
    "a is an array consists of all the araa numbers"
   ]
  },
  {
   "cell_type": "code",
   "execution_count": null,
   "id": "49f60b3d",
   "metadata": {},
   "outputs": [],
   "source": [
    "import numpy\n",
    "n,a=input().split(' ', 1 )\n",
    "n=int(n)\n",
    "a=[int(i) for i in a.split()]"
   ]
  },
  {
   "cell_type": "markdown",
   "id": "cad32b92",
   "metadata": {},
   "source": [
    "now we need to rotate the nxn matrix.\n",
    "first reverse the array,\n",
    "then reshape the array into a nxn matrix,\n",
    "transpose the matrix and reverse the rows of the matrix,\n",
    "at last output the numbers of the rotated matrix\n"
   ]
  },
  {
   "cell_type": "code",
   "execution_count": null,
   "id": "80816f56",
   "metadata": {},
   "outputs": [],
   "source": [
    "#reverse array a\n",
    "rotated=numpy.array(a)[::-1]\n",
    "#reshape the array into a nxn matrix\n",
    "rotated=numpy.reshape(rotated,(n,n))\n",
    "#transpose the matrix and reverse the rows of the matrix\n",
    "rotated=numpy.transpose(rotated)[::-1]\n",
    "#output the numbers of the rotated matrix\n",
    "print(*rotated.reshape(-1))\n"
   ]
  }
 ],
 "metadata": {
  "interpreter": {
   "hash": "5013045dc82a36df64c8c2f3d7e52f42e81dc372a5e8fb5cb6a136c3271f005d"
  },
  "kernelspec": {
   "display_name": "Python 3.7.10 64-bit ('causal': conda)",
   "name": "python3"
  },
  "language_info": {
   "codemirror_mode": {
    "name": "ipython",
    "version": 3
   },
   "file_extension": ".py",
   "mimetype": "text/x-python",
   "name": "python",
   "nbconvert_exporter": "python",
   "pygments_lexer": "ipython3",
   "version": "3.7.10"
  }
 },
 "nbformat": 4,
 "nbformat_minor": 5
}
