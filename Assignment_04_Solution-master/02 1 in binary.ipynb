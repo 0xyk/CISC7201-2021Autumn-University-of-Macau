{
 "cells": [
  {
   "cell_type": "markdown",
   "metadata": {},
   "source": [
    "# 1 in binary"
   ]
  },
  {
   "cell_type": "markdown",
   "metadata": {},
   "source": [
    "Description\n",
    "\n",
    "The input is an integer (>0), output the number of ones in its binary representation\n",
    "\n",
    "For example,\n",
    "\n",
    "32(decimal) → 100000(binary), there is one '1' in its binary representation\n",
    "\n",
    "13(decimal)→1101(binary), there are three '1's in its binary representation\n",
    "\n",
    "\n",
    "\n"
   ]
  },
  {
   "cell_type": "markdown",
   "metadata": {},
   "source": [
    "Hint:\n",
    "N & N-1 removes one '1' from the binary representation of N\n",
    "\n",
    "For example,\n",
    "\n",
    "N=13 → 1101\n",
    "\n",
    "1101 & 1100 = 1100\n",
    "\n",
    "1100 & 1010 = 1000\n",
    "\n",
    "1000 & 0111 = 0000\n",
    "\n",
    "1101 → 1100 → 1000 → 0000\n",
    "\n"
   ]
  },
  {
   "cell_type": "code",
   "execution_count": null,
   "metadata": {},
   "outputs": [],
   "source": [
    "num = int(input())\n",
    "#using count for the result\n",
    "count=0\n",
    "#initialize result\n",
    "result=1\n",
    "#when result equals to 0 breaks the loop\n",
    "while(result!=0):\n",
    "    num_bin_minus=num-1\n",
    "    result=num_bin_minus & num\n",
    "    count=count+1    \n",
    "    num=result\n",
    "    \n",
    "print(count)"
   ]
  }
 ],
 "metadata": {
  "kernelspec": {
   "display_name": "Python 3",
   "language": "python",
   "name": "python3"
  },
  "language_info": {
   "codemirror_mode": {
    "name": "ipython",
    "version": 3
   },
   "file_extension": ".py",
   "mimetype": "text/x-python",
   "name": "python",
   "nbconvert_exporter": "python",
   "pygments_lexer": "ipython3",
   "version": "3.6.13"
  }
 },
 "nbformat": 4,
 "nbformat_minor": 5
}
