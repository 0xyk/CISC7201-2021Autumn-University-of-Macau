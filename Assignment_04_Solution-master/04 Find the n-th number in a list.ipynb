{
 "cells": [
  {
   "cell_type": "markdown",
   "metadata": {},
   "source": [
    "# Find the n-th number in a list"
   ]
  },
  {
   "cell_type": "markdown",
   "metadata": {},
   "source": [
    "Description\n",
    "There are four Integer numbers: n, a, b, c.\n",
    "\n",
    "You need to get a list constructed by the following conditions:\n",
    "\n",
    "1. The numbers in the list are positive integer numbers divisible by a or b or c；\n",
    "\n",
    "2. The list isarranged from small to large.\n",
    "\n",
    "Then you need to find the n-th number in the list and return it.\n",
    "\n",
    "For example\n",
    "\n",
    "n= 10, a=2, b=3, c=4\n",
    "\n",
    "The list will be 2,3,4,6,8,9,10,12,14,15,16,18.....and the 10-th number is 15\n",
    "\n",
    "\n"
   ]
  },
  {
   "cell_type": "markdown",
   "metadata": {},
   "source": [
    "# Hint"
   ]
  },
  {
   "cell_type": "markdown",
   "metadata": {},
   "source": [
    "Using a list to store the eligible numbers until we find the n-th number(while loop)\n",
    "return the last number in the list"
   ]
  },
  {
   "cell_type": "markdown",
   "metadata": {},
   "source": [
    "# Solution"
   ]
  },
  {
   "cell_type": "code",
   "execution_count": null,
   "metadata": {},
   "outputs": [],
   "source": [
    "# split the input\n",
    "nums = input().split(\",\")\n",
    "n,a,b,c = int(nums[0]),int(nums[1]),int(nums[2]),int(nums[3])\n",
    "i=1\n",
    "res = []\n",
    "# len(res)==n,break the loop\n",
    "while len(res)<n:\n",
    "    if i % a ==0:\n",
    "        res.append(i)\n",
    "    elif i % b ==0:\n",
    "        res.append(i)\n",
    "    elif i % c ==0:\n",
    "        res.append(i)\n",
    "    i=i+1\n",
    "print(res[-1])"
   ]
  }
 ],
 "metadata": {
  "kernelspec": {
   "display_name": "PyCharm (Python)",
   "language": "python",
   "name": "pycharm-a555b8c5"
  },
  "language_info": {
   "codemirror_mode": {
    "name": "ipython",
    "version": 3
   },
   "file_extension": ".py",
   "mimetype": "text/x-python",
   "name": "python",
   "nbconvert_exporter": "python",
   "pygments_lexer": "ipython3",
   "version": "3.9.0"
  }
 },
 "nbformat": 4,
 "nbformat_minor": 4
}
