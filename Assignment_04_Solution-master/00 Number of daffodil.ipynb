{
 "cells": [
  {
   "cell_type": "markdown",
   "id": "12ed8305",
   "metadata": {},
   "source": [
    "# Number of daffodil"
   ]
  },
  {
   "cell_type": "markdown",
   "id": "69faa0ae",
   "metadata": {},
   "source": [
    "The basic input and output of python is directly operated on the standard device(screen)\n",
    "An example of its use is given below."
   ]
  },
  {
   "cell_type": "code",
   "execution_count": null,
   "id": "5c2cb40d",
   "metadata": {},
   "outputs": [],
   "source": [
    "a,b = [int(num) for num in input().split()]"
   ]
  },
  {
   "cell_type": "markdown",
   "id": "9c2c1dd6",
   "metadata": {},
   "source": [
    "which means the python will read the number you type on the keyboard one by one, \n",
    "from a to b.\n",
    "It is well noticed that: \n",
    "     \n",
    "     1.int(num)indicates the number will be an integer form.\n",
    "    \n",
    "     2.for num in input indicates an iteratation, it will read the same numbers of value as the up-coming a,b numbers.\n",
    "    \n",
    "     3.In the online judge system, the inputs come from \"standard input\". To read the data from standard input, we can use a function called \"input()\".\n",
    "\n",
    ">>in_line = input()\n",
    "\n",
    "    4.However, the input() function will only give you one single line of input (from standard input). To split the data from a single line, we need a function called \"split()\" to help.\n",
    "\n",
    ">> inputs = in_line.split()\n",
    ">> print(inputs[0], inputs[1])\n",
    "\n",
    "    5.Even we have successfully split the data, the data is still in \"string\" format. To do our math calculation, we need to convert the string into integer by a function called \"int()\".\n",
    "\n",
    ">>a = int(inputs[0])\n",
    ">>b = int(inputs[1])\n",
    "\n"
   ]
  },
  {
   "cell_type": "code",
   "execution_count": null,
   "id": "cf3c9ef0",
   "metadata": {},
   "outputs": [],
   "source": [
    "#using a list c to store the results\n",
    "c = []\n",
    "for i in range(a, b):\n",
    "    #transform the integer to a list of strings\n",
    "    #eg. 345 -> [\"3\",\"4\",\"5\"]\n",
    "    d = list(str(i))\n",
    "    #judging whether i is a \"Daffodil number\"\n",
    "    if i == pow(int(d[0]), 3) + pow(int(d[1]), 3) + pow(int(d[2]), 3):\n",
    "        #if i is a \"Daffodil number\", add it into the result list\n",
    "        c.append(i)\n",
    "print(*c)"
   ]
  },
  {
   "cell_type": "markdown",
   "id": "bb6198a9",
   "metadata": {},
   "source": []
  }
 ],
 "metadata": {
  "kernelspec": {
   "display_name": "Python 3",
   "language": "python",
   "name": "python3"
  },
  "language_info": {
   "codemirror_mode": {
    "name": "ipython",
    "version": 3
   },
   "file_extension": ".py",
   "mimetype": "text/x-python",
   "name": "python",
   "nbconvert_exporter": "python",
   "pygments_lexer": "ipython3",
   "version": "3.6.13"
  }
 },
 "nbformat": 4,
 "nbformat_minor": 5
}
