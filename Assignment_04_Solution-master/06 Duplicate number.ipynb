{
 "cells": [
  {
   "cell_type": "markdown",
   "metadata": {},
   "source": [
    "# Duplicate number"
   ]
  },
  {
   "cell_type": "markdown",
   "metadata": {},
   "source": [
    "Description:\n",
    "\n",
    "Input a positive integer n, output the number of positive integers that are less than or equal to n and have at least one duplicate number.\n",
    "\n",
    "Duplicate number means the number like 11,22,33,...,100,111,122.\n",
    "\n",
    "Example:\n",
    "\n",
    "1. Input 20, output 1, only 11 is theduplicate number.\n",
    "\n",
    "2.Input 100, output 10, the duplicate number including:11,22,33,44,55,66,77,88,99,100.\n",
    "\n",
    "3.Input 10000, output 4726\n",
    "\n",
    "\n"
   ]
  },
  {
   "cell_type": "markdown",
   "metadata": {},
   "source": [
    "# Reduce function"
   ]
  },
  {
   "cell_type": "markdown",
   "metadata": {},
   "source": [
    "Apply function of two arguments cumulatively to the items of iterable, from left to right, so as to reduce the iterable to a single value.  We can consider that $reduce(f, [x1, x2, x3, x4]) = f(f(f(x1, x2), x3), x4))$. And in python3, reduce function is contained functools package. For example, "
   ]
  },
  {
   "cell_type": "code",
   "execution_count": 1,
   "metadata": {},
   "outputs": [
    {
     "name": "stdout",
     "output_type": "stream",
     "text": [
      "15\n"
     ]
    }
   ],
   "source": [
    "from functools import reduce\n",
    "\n",
    "\n",
    "print(reduce(lambda x, y: x+y, [1, 2, 3, 4, 5]))"
   ]
  },
  {
   "cell_type": "markdown",
   "metadata": {},
   "source": [
    "It calculates $((((1+2)+3)+4)+5)$. The left argument, $x$, is the accumulated value and the right argument, $y$, is the update value from the iterable. If the optional initializer is present, it is placed before the items of the iterable in the calculation, and serves as a default when the iterable is empty. If initializer is not given and iterable contains only one item, the first item is returned."
   ]
  },
  {
   "cell_type": "markdown",
   "metadata": {},
   "source": [
    "# Solution"
   ]
  },
  {
   "cell_type": "code",
   "execution_count": null,
   "metadata": {},
   "outputs": [],
   "source": [
    "from functools import reduce\n",
    "print(reduce(lambda amount,x:amount+(1 if len(str(x))!=len(set(str(x))) else 0),range(int(input())+1),0))"
   ]
  }
 ],
 "metadata": {
  "kernelspec": {
   "display_name": "PyCharm (Python)",
   "language": "python",
   "name": "pycharm-a555b8c5"
  },
  "language_info": {
   "codemirror_mode": {
    "name": "ipython",
    "version": 3
   },
   "file_extension": ".py",
   "mimetype": "text/x-python",
   "name": "python",
   "nbconvert_exporter": "python",
   "pygments_lexer": "ipython3",
   "version": "3.9.0"
  }
 },
 "nbformat": 4,
 "nbformat_minor": 4
}
