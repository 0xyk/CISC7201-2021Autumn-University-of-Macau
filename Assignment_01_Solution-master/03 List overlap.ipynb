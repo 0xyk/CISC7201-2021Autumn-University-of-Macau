{
 "cells": [
  {
   "cell_type": "markdown",
   "source": [
    "# List overlap"
   ],
   "metadata": {}
  },
  {
   "cell_type": "markdown",
   "source": [
    "Description\n",
    "\n",
    "Given two lists, your task is to return a new list that contains the \"intersection elements\"(co-appear in both lists, without duplication). Make sure your program works on two lists of different sizes.\n"
   ],
   "metadata": {}
  },
  {
   "cell_type": "code",
   "execution_count": null,
   "source": [
    "a = [int(x) for x in input().split()]\n",
    "b = [int(x) for x in input().split()]\n",
    "c = list(set(a)&set(b))\n"
   ],
   "outputs": [],
   "metadata": {}
  },
  {
   "cell_type": "markdown",
   "source": [
    "a and b are input numbers.\n",
    "set() function can remove duplicate elements\n",
    "In the function \"list(set()&set())\", c get the intersection of 2 list."
   ],
   "metadata": {}
  },
  {
   "cell_type": "code",
   "execution_count": null,
   "source": [
    "c.sort()"
   ],
   "outputs": [],
   "metadata": {}
  },
  {
   "cell_type": "markdown",
   "source": [
    "\n",
    "sort() function is for list, so we need to convert set to list "
   ],
   "metadata": {}
  },
  {
   "cell_type": "code",
   "execution_count": null,
   "source": [
    "for i in c:\n",
    "    print(i,end=' ')"
   ],
   "outputs": [],
   "metadata": {}
  },
  {
   "cell_type": "markdown",
   "source": [
    "for every i  in c, output the intersection number."
   ],
   "metadata": {}
  }
 ],
 "metadata": {
  "kernelspec": {
   "display_name": "Python 3",
   "language": "python",
   "name": "python3"
  },
  "language_info": {
   "codemirror_mode": {
    "name": "ipython",
    "version": 3
   },
   "file_extension": ".py",
   "mimetype": "text/x-python",
   "name": "python",
   "nbconvert_exporter": "python",
   "pygments_lexer": "ipython3",
   "version": "3.6.13"
  }
 },
 "nbformat": 4,
 "nbformat_minor": 5
}