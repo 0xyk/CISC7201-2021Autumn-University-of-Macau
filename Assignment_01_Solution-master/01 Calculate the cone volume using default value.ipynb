{
 "cells": [
  {
   "cell_type": "markdown",
   "id": "f62f5fd4",
   "metadata": {},
   "source": [
    "#Calculate the cone volume using default value"
   ]
  },
  {
   "cell_type": "markdown",
   "id": "dd9acc16",
   "metadata": {},
   "source": [
    "This problem is essentially about the multiply method"
   ]
  },
  {
   "cell_type": "markdown",
   "id": "b04696bc",
   "metadata": {},
   "source": [
    "Description of the problem\n",
    "\n",
    "Now, we need to write a function to calculate the volume of a cone with given its base radius and height.\n",
    "\n",
    "The volume of a cone =(1/3) * π * r^2 * h, where, ‘r’ is the base radius of the cone and ‘h’ is the height of the cone.For simplicity, the value of π is set to 3.141.\n",
    "\n",
    "In summary, we need to write a function which returns the volume of the cone based on three input parameters (radius, height, andπ), where the pi has a default value of 3.141.\n",
    "\n",
    "     Analysis:\n",
    "     1. The key point is how to write a fuction which multiply parameters.\n",
    "     2. Another is how to write a function checking whether there is a third input, and then regard it as the specific π\n"
   ]
  },
  {
   "cell_type": "code",
   "execution_count": null,
   "id": "d96adc1b",
   "metadata": {},
   "outputs": [],
   "source": [
    "number = [float(num) for num in (input(\"Input the value \\n\")).split()]\n",
    "r = number[0]\n",
    "h = number[1]"
   ]
  },
  {
   "cell_type": "markdown",
   "id": "ab484c11",
   "metadata": {},
   "source": [
    "\"number\" is a array which consists at least 2 variables.\n",
    "\n",
    "Just like the int(num) in example 0,\"float (num)\" means the number will be in float form, and the \"for num in\" is also an ieratation loop.\n",
    "\n",
    "The first element in array number is number 0, is assigned to r,\n",
    "\n",
    "r means the radius.\n",
    "\n",
    "The first element in array number is number 1, is assigned to h.\n",
    "\n",
    "h means the height."
   ]
  },
  {
   "cell_type": "code",
   "execution_count": null,
   "id": "49f60b3d",
   "metadata": {},
   "outputs": [],
   "source": [
    "try: \n",
    "    pi = number[2]\n",
    "except IndexError:\n",
    "    pi = 3.141"
   ]
  },
  {
   "cell_type": "markdown",
   "id": "cad32b92",
   "metadata": {},
   "source": [
    "In this language, \"try\" will assume there will be a third input\n",
    "\n",
    "And if it has, the number will be assumed to pi, which means the pi will be assigned to a specific number determined by the person who input the number.\n",
    "\n",
    "But if there is no a third input, the pi will be automatically assigned by 3.141.\n",
    "\n",
    "     The key point 2 is here, please remember it is a and handling of special cashes, no matter if there will be third input."
   ]
  },
  {
   "cell_type": "code",
   "execution_count": null,
   "id": "80816f56",
   "metadata": {},
   "outputs": [],
   "source": [
    "def volume(radius, height, pi):\n",
    "    \n",
    "    volume = (1 / 3) * pi * r ** 2 * h\n",
    "    return volume\n",
    "    "
   ]
  },
  {
   "cell_type": "markdown",
   "id": "5ba43092",
   "metadata": {},
   "source": [
    "\"def\" means after def it is a function called \"volume\" , it has 3 variables which is radius, height and pi.\n",
    "\n",
    "     The key point 1 : one * means multiply, and two * means index.\n",
    "\n",
    "return in last row indicates the number will be returned to volume.\n",
    "\n"
   ]
  }
 ],
 "metadata": {
  "kernelspec": {
   "display_name": "Python 3",
   "language": "python",
   "name": "python3"
  },
  "language_info": {
   "codemirror_mode": {
    "name": "ipython",
    "version": 3
   },
   "file_extension": ".py",
   "mimetype": "text/x-python",
   "name": "python",
   "nbconvert_exporter": "python",
   "pygments_lexer": "ipython3",
   "version": "3.6.13"
  }
 },
 "nbformat": 4,
 "nbformat_minor": 5
}
