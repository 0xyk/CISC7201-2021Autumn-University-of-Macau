{
 "cells": [
  {
   "cell_type": "markdown",
   "metadata": {},
   "source": [
    "# Multiplication table"
   ]
  },
  {
   "cell_type": "markdown",
   "metadata": {},
   "source": [
    "A multiplication table is a mathematical table used to define a multiplication operation for an algebraic system. And we usually use the 9x9 multiplication table as below."
   ]
  },
  {
   "cell_type": "markdown",
   "metadata": {},
   "source": [
    "1x1=1<br>\n",
    "2x1=2 2x2=4<br>\n",
    "3x1=3 3x2=6 3x3=9<br>\n",
    "4x1=4 4x2=8 4x3=12  4x4=16<br>\n",
    "5x1=5 5x2=10 5x3=15 5x4=20 5x5=25<br>\n",
    "6x1=6 6x2=12 6x3=18 6x4=24 6x5=30 6x6=36<br>\n",
    "7x1=7 7x2=14 7x3=21 7x4=28 7x5=35 7x6=42 7x7=49<br>\n",
    "8x1=8 8x2=16 8x3=24 8x4=32 8x5=40 8x6=48 8x7=56 8x8=64<br>\n",
    "9x1=9 9x2=18 9x3=27 9x4=36 9x5=45 9x6=54 9x7=63 9x8=72 9x9=81"
   ]
  },
  {
   "cell_type": "markdown",
   "metadata": {},
   "source": [
    "# Solution"
   ]
  },
  {
   "cell_type": "code",
   "execution_count": 3,
   "metadata": {},
   "outputs": [
    {
     "name": "stdout",
     "output_type": "stream",
     "text": [
      "9\n",
      "1x1=1\n",
      "2x1=2 2x2=4\n",
      "3x1=3 3x2=6 3x3=9\n",
      "4x1=4 4x2=8 4x3=12 4x4=16\n",
      "5x1=5 5x2=10 5x3=15 5x4=20 5x5=25\n",
      "6x1=6 6x2=12 6x3=18 6x4=24 6x5=30 6x6=36\n",
      "7x1=7 7x2=14 7x3=21 7x4=28 7x5=35 7x6=42 7x7=49\n",
      "8x1=8 8x2=16 8x3=24 8x4=32 8x5=40 8x6=48 8x7=56 8x8=64\n",
      "9x1=9 9x2=18 9x3=27 9x4=36 9x5=45 9x6=54 9x7=63 9x8=72 9x9=81\n",
      "\n"
     ]
    }
   ],
   "source": [
    "#Solution\n",
    "size=int(input())\n",
    "#Initialize a string a\n",
    "mul_table = ''\n",
    "#Iterate by row\n",
    "for i in range(size):\n",
    "    #Iterate by column\n",
    "    for j in range(i + 1):\n",
    "        #Add ixj=k on at the end of a\n",
    "        mul_table += f'{i + 1}x{j + 1}={(i + 1)*(j + 1)}'\n",
    "        #When i=j, it means that it is the end of a line, and we add a newline at the end of a \n",
    "        if i ==j:\n",
    "            mul_table += '\\n'\n",
    "        #When i≠j, it means that it is not the end of a line, and we add a space after an equation\n",
    "        else:\n",
    "            mul_table += ' '\n",
    "print(mul_table)"
   ]
  }
 ],
 "metadata": {
  "kernelspec": {
   "display_name": "PyCharm (Python)",
   "language": "python",
   "name": "pycharm-a555b8c5"
  },
  "language_info": {
   "codemirror_mode": {
    "name": "ipython",
    "version": 3
   },
   "file_extension": ".py",
   "mimetype": "text/x-python",
   "name": "python",
   "nbconvert_exporter": "python",
   "pygments_lexer": "ipython3",
   "version": "3.9.0"
  }
 },
 "nbformat": 4,
 "nbformat_minor": 4
}
