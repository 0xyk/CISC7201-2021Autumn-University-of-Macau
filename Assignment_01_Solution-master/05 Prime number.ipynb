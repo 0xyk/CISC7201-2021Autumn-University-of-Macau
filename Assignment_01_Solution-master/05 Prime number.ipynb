{
 "cells": [
  {
   "cell_type": "markdown",
   "metadata": {},
   "source": [
    "# Prime number"
   ]
  },
  {
   "cell_type": "markdown",
   "metadata": {},
   "source": [
    "A prime number (or a prime) is a natural number greater than 1 that is not a product of two smaller natural numbers. And all even numbers are prime except 2 (the smallest prime number).\n",
    "\n",
    "So our aim is to know whether the number has factors or not. And we introduce the axiom: the factors of a number are less than the root of itself. Therefore, we just need to iterate from 2 to the smallest integer more than its root (using ceil function) to calculate if the number has factors."
   ]
  },
  {
   "cell_type": "markdown",
   "metadata": {},
   "source": [
    "# Modulo operator"
   ]
  },
  {
   "cell_type": "markdown",
   "metadata": {},
   "source": [
    "% is the modulo operator in python, which can get the remainder. For example, $4 ÷ 2 = 2 ... 0$, we can denote it by $4 \\% 2 = 0$, and $5 ÷ 3 = 1 ... 2$, we can denote it by $5 \\% 3 = 2$. And we can also know that if the result is 0, the dividend is divisible by the divisor. Further, the dividend is not prime."
   ]
  },
  {
   "cell_type": "markdown",
   "metadata": {},
   "source": [
    "# Solution"
   ]
  },
  {
   "cell_type": "code",
   "execution_count": null,
   "metadata": {},
   "outputs": [],
   "source": [
    "#Solution 1\n",
    "from math import sqrt, ceil\n",
    "#sqrt function is to extract a root of a number. And ceil function is to round up the value of a number.\n",
    "#For example, math.sqrt(4)=2, and ceil(2.1)=3\n",
    "\n",
    "num = int(input())\n",
    "upper_bound = ceil(sqrt(num)\n",
    "for i in range(2, upper_bound):\n",
    "#Try every integer from 2 to its root\n",
    "    if num % i == 0:\n",
    "        print(f'{num} is not prime number')\n",
    "    print(f'{num} is a prime number')"
   ]
  },
  {
   "cell_type": "code",
   "execution_count": 2,
   "metadata": {},
   "outputs": [
    {
     "name": "stdout",
     "output_type": "stream",
     "text": [
      "99\n",
      "99 is not a prime number\n"
     ]
    }
   ],
   "source": [
    "#Solution 2\n",
    "from math import sqrt, ceil\n",
    "\n",
    "num = int(input())\n",
    "upper_bound = ceil(sqrt(num))\n",
    "if num == 2:\n",
    "    #2 is prime.\n",
    "    print(f'{num} is prime number')\n",
    "elif num % 2 == 0:\n",
    "    #All even numbers are prime.\n",
    "    print(f'{num} is not prime number')\n",
    "else:\n",
    "    #The rest numbers are all odd numbers.\n",
    "    for i in range(3, upper_bound, 2):\n",
    "        if num % i == 0:\n",
    "            print(f'{num} is not prime number')\n",
    "    print(f'{num} is a prime number')"
   ]
  },
  {
   "cell_type": "markdown",
   "metadata": {},
   "source": [
    "We can find that the solution 2 excludes all the even numbers before iteration, and it significantly speeds up the calculation process."
   ]
  }
 ],
 "metadata": {
  "kernelspec": {
   "display_name": "PyCharm (Python)",
   "language": "python",
   "name": "pycharm-a555b8c5"
  },
  "language_info": {
   "codemirror_mode": {
    "name": "ipython",
    "version": 3
   },
   "file_extension": ".py",
   "mimetype": "text/x-python",
   "name": "python",
   "nbconvert_exporter": "python",
   "pygments_lexer": "ipython3",
   "version": "3.9.0"
  }
 },
 "nbformat": 4,
 "nbformat_minor": 4
}
