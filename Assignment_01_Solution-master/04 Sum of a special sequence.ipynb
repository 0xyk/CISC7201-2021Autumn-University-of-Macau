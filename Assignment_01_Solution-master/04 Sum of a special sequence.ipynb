{
 "cells": [
  {
   "cell_type": "markdown",
   "id": "af681497",
   "metadata": {},
   "source": [
    "# Sum of a special sequence"
   ]
  },
  {
   "cell_type": "markdown",
   "id": "8486b763",
   "metadata": {},
   "source": [
    "Description\n",
    "\n",
    "Given an integer \"n\", try to find the sum of the sequence with following pattern: 2-3 + 4-5 + 6-7 + ... n\n",
    "\n",
    "For example, if you input 4, you will calculate 2-3+4, input 5, you will calculate 2-3+4-5"
   ]
  },
  {
   "cell_type": "code",
   "execution_count": null,
   "id": "eb1ab338",
   "metadata": {},
   "outputs": [],
   "source": [
    "n = int(input())"
   ]
  },
  {
   "cell_type": "markdown",
   "id": "61ffc290",
   "metadata": {},
   "source": [
    "Assign the numbers input in n,\n",
    "\n",
    "Especially in integer form."
   ]
  },
  {
   "cell_type": "code",
   "execution_count": null,
   "id": "e3a47c8c",
   "metadata": {},
   "outputs": [],
   "source": [
    "if n % 2 == 0:\n",
    "    print(int(n/2+1))\n",
    "else:\n",
    "    print(int(-n/2))"
   ]
  },
  {
   "cell_type": "markdown",
   "id": "2c3a313f",
   "metadata": {},
   "source": [
    "if the modulo n % 2 is equal to 0, (the even number)\n",
    "\n",
    "then print n divide 2 and plus 1, in integer form.\n",
    "\n",
    "if the modulo n % 2 is not equal to 0, (the odd number)\n",
    "\n",
    "then print minus n divide 2, in integer form."
   ]
  }
 ],
 "metadata": {
  "kernelspec": {
   "display_name": "Python 3",
   "language": "python",
   "name": "python3"
  },
  "language_info": {
   "codemirror_mode": {
    "name": "ipython",
    "version": 3
   },
   "file_extension": ".py",
   "mimetype": "text/x-python",
   "name": "python",
   "nbconvert_exporter": "python",
   "pygments_lexer": "ipython3",
   "version": "3.6.13"
  }
 },
 "nbformat": 4,
 "nbformat_minor": 5
}
