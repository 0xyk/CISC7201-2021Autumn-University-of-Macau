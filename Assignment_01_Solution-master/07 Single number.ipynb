{
 "cells": [
  {
   "cell_type": "markdown",
   "metadata": {},
   "source": [
    "# Single number"
   ]
  },
  {
   "cell_type": "markdown",
   "metadata": {},
   "source": [
    "Given a non-empty array of integers, each number exactly appears two times except a special number. For example, $[2, 1, 2]$ and $[2, 1 , 2, 3, 3]$ And our aim is to find the special number."
   ]
  },
  {
   "cell_type": "markdown",
   "metadata": {},
   "source": [
    "# Reduce function"
   ]
  },
  {
   "cell_type": "markdown",
   "metadata": {},
   "source": [
    "Apply function of two arguments cumulatively to the items of iterable, from left to right, so as to reduce the iterable to a single value.  We can consider that $reduce(f, [x1, x2, x3, x4]) = f(f(f(x1, x2), x3), x4))$. And in python3, reduce function is contained functools package. For example, "
   ]
  },
  {
   "cell_type": "code",
   "execution_count": 1,
   "metadata": {},
   "outputs": [
    {
     "name": "stdout",
     "output_type": "stream",
     "text": [
      "15\n"
     ]
    }
   ],
   "source": [
    "from functools import reduce\n",
    "\n",
    "\n",
    "print(reduce(lambda x, y: x+y, [1, 2, 3, 4, 5]))"
   ]
  },
  {
   "cell_type": "markdown",
   "metadata": {},
   "source": [
    "It calculates $((((1+2)+3)+4)+5)$. The left argument, $x$, is the accumulated value and the right argument, $y$, is the update value from the iterable. If the optional initializer is present, it is placed before the items of the iterable in the calculation, and serves as a default when the iterable is empty. If initializer is not given and iterable contains only one item, the first item is returned."
   ]
  },
  {
   "cell_type": "markdown",
   "metadata": {},
   "source": [
    "# XOR operation"
   ]
  },
  {
   "cell_type": "markdown",
   "metadata": {},
   "source": [
    "XOR is a logical operation that is true if and only if its arguments differ (one is true, the other is false).  It is usually denoted by $\\bigoplus$, and in python, it is denoted by $^$. This could be written as \"A or B, but not, A and B\". The truth table of A XOR B shows that it outputs true whenever the inputs differ:"
   ]
  },
  {
   "cell_type": "markdown",
   "metadata": {},
   "source": [
    "| input A | input B | output |\n",
    "| :-: | :-: | :-: |\n",
    "| 0 | 0 | 0 |\n",
    "| 0 | 1 | 1 |\n",
    "| 1 | 0 | 1 |\n",
    "| 1 | 1 | 0 |"
   ]
  },
  {
   "cell_type": "markdown",
   "metadata": {},
   "source": [
    "Briefly, we can consider the operation that, if A is same as B, the output will be 0, and if different, the output will be 1.  And the operation has four properties as below: \n",
    "\n",
    "- Commutative : A ⊕ B = B ⊕ A\n",
    "- Associative : A ⊕ ( B ⊕ C ) = ( A ⊕ B ) ⊕ C\n",
    "- Identity element : A ⊕ 0 = A\n",
    "- Self-inverse : A ⊕ A = 0"
   ]
  },
  {
   "cell_type": "markdown",
   "metadata": {},
   "source": [
    "# Solution"
   ]
  },
  {
   "cell_type": "code",
   "execution_count": null,
   "metadata": {},
   "outputs": [],
   "source": [
    "#Solution 1\n",
    "from functools import reduce\n",
    "\n",
    "\n",
    "def find_single_number(nums):\n",
    "    \"\"\"\n",
    "    Parameters:\n",
    "        nums: A non-empty list of integers numbers.\n",
    "\n",
    "    Returns: The single number.\n",
    "    \"\"\" \n",
    "        return reduce(lambda x, y: x ^ y, nums)"
   ]
  },
  {
   "cell_type": "markdown",
   "metadata": {},
   "source": [
    "We use the XOR operation to solve the problem. And due to the properties of XOR operation, we find that the same elements are all excluded, and the rest number is just the 'special number'."
   ]
  },
  {
   "cell_type": "code",
   "execution_count": null,
   "metadata": {},
   "outputs": [],
   "source": [
    "#Solution 2\n",
    "def find_single_number(nums):\n",
    "    \"\"\"\n",
    "    Parameters:\n",
    "        nums: A non-empty list of integers numbers.\n",
    "\n",
    "    Returns:\n",
    "        single: The single number.\n",
    "    \"\"\" \n",
    "    return 2*sum(set(nums)) - sum(nums)"
   ]
  },
  {
   "cell_type": "markdown",
   "metadata": {},
   "source": [
    "Without using XOR operation, we can also solve the problem easily. We use the set function, which can exclude all the repeated elements. And its principle is that there are no repeated elements in a set. For example, $set([2, 1, 2, 3, 3])=[2, 1, 3]$. And then, we sum all the elements in the set and multiply 2, and substract the summation of the beginning array. Therefore, the difference is just the 'special number'."
   ]
  }
 ],
 "metadata": {
  "kernelspec": {
   "display_name": "PyCharm (Python)",
   "language": "python",
   "name": "pycharm-a555b8c5"
  },
  "language_info": {
   "codemirror_mode": {
    "name": "ipython",
    "version": 3
   },
   "file_extension": ".py",
   "mimetype": "text/x-python",
   "name": "python",
   "nbconvert_exporter": "python",
   "pygments_lexer": "ipython3",
   "version": "3.9.0"
  }
 },
 "nbformat": 4,
 "nbformat_minor": 4
}
