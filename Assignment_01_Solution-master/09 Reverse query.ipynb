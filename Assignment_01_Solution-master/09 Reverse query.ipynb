{
 "cells": [
  {
   "cell_type": "markdown",
   "metadata": {},
   "source": [
    "# Dictionary structure"
   ]
  },
  {
   "cell_type": "markdown",
   "metadata": {},
   "source": [
    "Dictionary is a special type of data structure in python. And for better understanding, it is highly recommended to read the official documentation: https://docs.python.org/3/tutorial/datastructures.html, and dictionary is introduced in 5.5."
   ]
  },
  {
   "cell_type": "markdown",
   "metadata": {},
   "source": [
    "dictionary.items() method returns a view object that displays a list of dictionary's (key, value) tuple pairs. For exapmle:"
   ]
  },
  {
   "cell_type": "code",
   "execution_count": 1,
   "metadata": {},
   "outputs": [
    {
     "name": "stdout",
     "output_type": "stream",
     "text": [
      "dict_items([('Physics', 67), ('Maths', 87)])\n"
     ]
    }
   ],
   "source": [
    "marks = {'Physics':67, 'Maths':87}\n",
    "print(marks.items())"
   ]
  },
  {
   "cell_type": "markdown",
   "metadata": {},
   "source": [
    "# Solution"
   ]
  },
  {
   "cell_type": "code",
   "execution_count": null,
   "metadata": {},
   "outputs": [],
   "source": [
    "#Solution\n",
    "def GPA_search(GPA, student_record):\n",
    "    \"\"\"\n",
    "    Parameters:\n",
    "        GPA: A string of GPA\n",
    "        student_record: A non-empty dictionary with string keys of students' names and string values of GPA\n",
    "\n",
    "    Returns: The students' names with corresponding GPA\n",
    "    \"\"\" \n",
    "    #Using list comprehension\n",
    "    #i[0] is the students' name and i[1] is his/her GPA, and if his/her GPA corresponds to that we need, the name will be returned\n",
    "    return [i[0] for i in student_record.items() if i[1] == GPA]"
   ]
  }
 ],
 "metadata": {
  "kernelspec": {
   "display_name": "PyCharm (Python)",
   "language": "python",
   "name": "pycharm-a555b8c5"
  },
  "language_info": {
   "codemirror_mode": {
    "name": "ipython",
    "version": 3
   },
   "file_extension": ".py",
   "mimetype": "text/x-python",
   "name": "python",
   "nbconvert_exporter": "python",
   "pygments_lexer": "ipython3",
   "version": "3.9.0"
  }
 },
 "nbformat": 4,
 "nbformat_minor": 4
}
