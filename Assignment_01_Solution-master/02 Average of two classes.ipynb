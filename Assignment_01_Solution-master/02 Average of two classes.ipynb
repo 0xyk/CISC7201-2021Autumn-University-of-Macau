{
 "cells": [
  {
   "cell_type": "markdown",
   "id": "80ec8239",
   "metadata": {},
   "source": [
    "# Average of two classes"
   ]
  },
  {
   "cell_type": "markdown",
   "id": "a99304f4",
   "metadata": {},
   "source": [
    "Description\n",
    "\n",
    "Given two integers \"n\" and \"k\", your task is to classify all the integers from 1 to n into two classes, where the first class includes integers divisible by k (which means the number is a multiple of k) and the second class includes other integers.\n",
    "\n",
    "Your task is to find the average (mean) value of each class, where the output precision is set to one decimal place.\n",
    "\n",
    "\n",
    "Example:\n",
    "\n",
    "inputs: 10 3\n",
    "\n",
    "\n",
    "\n",
    "class1 = [3,6,9]\n",
    "\n",
    "class2= [1,2,4,5,7,8,10]\n",
    "\n",
    "\n",
    "\n",
    "mean(class1) = sum ofclass1/length ofclass1= (3+6+9)/3 = 6.0\n",
    "\n",
    "mean(class2) =sum ofclass2/length ofclass2= (1+2+4+5+7+8+10)/7 = 5.3"
   ]
  },
  {
   "cell_type": "code",
   "execution_count": null,
   "id": "4421dbae",
   "metadata": {},
   "outputs": [],
   "source": [
    "n,k = [int(x) for x in input().split()]\n",
    "a = []\n",
    "b = []"
   ]
  },
  {
   "cell_type": "markdown",
   "id": "cb70f4a2",
   "metadata": {},
   "source": [
    "n,k are inputs integer numbers,\n",
    "\n",
    "a,b are arrays, which are explained in last file."
   ]
  },
  {
   "cell_type": "code",
   "execution_count": null,
   "id": "7e462485",
   "metadata": {},
   "outputs": [],
   "source": [
    "\n",
    "for x in range(1,n+1):\n",
    "    if x%k == 0:\n",
    "        a.append(x)\n",
    "    else:\n",
    "        b.append(x)"
   ]
  },
  {
   "cell_type": "markdown",
   "id": "fba4ef36",
   "metadata": {},
   "source": [
    "\"for *** in *** \" means it is a loop.\n",
    "\n",
    "In x larger than 1 and smaller than n+1, the code will excute the following code again and again.\n",
    "\n",
    "% in python means Modulo, if x modolo k is equal to 0, then a will add current x to its array.\n",
    "\n",
    "      usage of append in python https://towardsdatascience.com/append-in-python-41c37453400\n",
    "And  if it is not 0, b will add the current x."
   ]
  },
  {
   "cell_type": "code",
   "execution_count": null,
   "id": "fe6bc1fc",
   "metadata": {},
   "outputs": [],
   "source": [
    "suma= sum(a)/len(a)\n",
    "sumb= sum(b)/len(b)"
   ]
  },
  {
   "cell_type": "markdown",
   "id": "8c328aa8",
   "metadata": {},
   "source": [
    "sum(a) is a fuction which calculates the whole values of elements in a.\n",
    "\n",
    "len(a) is a function which caculates the numbers of elements in the array.\n",
    "\n",
    " / means division method.\n",
    " \n",
    "       Notice that the output of / may be a float number"
   ]
  },
  {
   "cell_type": "code",
   "execution_count": null,
   "id": "be1134b2",
   "metadata": {},
   "outputs": [],
   "source": [
    "print(round((suma),1),round((sumb),1))"
   ]
  },
  {
   "cell_type": "markdown",
   "id": "4e6f8363",
   "metadata": {},
   "source": [
    "print the value."
   ]
  }
 ],
 "metadata": {
  "kernelspec": {
   "display_name": "Python 3",
   "language": "python",
   "name": "python3"
  },
  "language_info": {
   "codemirror_mode": {
    "name": "ipython",
    "version": 3
   },
   "file_extension": ".py",
   "mimetype": "text/x-python",
   "name": "python",
   "nbconvert_exporter": "python",
   "pygments_lexer": "ipython3",
   "version": "3.6.13"
  }
 },
 "nbformat": 4,
 "nbformat_minor": 5
}
