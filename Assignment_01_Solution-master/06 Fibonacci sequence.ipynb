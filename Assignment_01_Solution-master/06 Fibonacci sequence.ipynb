{
 "cells": [
  {
   "cell_type": "markdown",
   "metadata": {},
   "source": [
    "# Fibonacci sequence"
   ]
  },
  {
   "cell_type": "markdown",
   "metadata": {},
   "source": [
    "Fibonacci sequence, denoted by Fn, such that each number is the sum of the two preceding ones, starting from 0 and 1. In math language, $F_{0}=0$, $F_{1}=1$, and $F_{n}=F_{n-1}+F_{n-2}\\ for\\ n>1$. The sequence starts: $0, 1, 1, 2, 3, 5, 8, 13, 21, 34, 55, 89, 144, ...$"
   ]
  },
  {
   "cell_type": "markdown",
   "metadata": {},
   "source": [
    "# Solution"
   ]
  },
  {
   "cell_type": "code",
   "execution_count": null,
   "metadata": {},
   "outputs": [],
   "source": [
    "length = int(input())\n",
    "#The length of the sequence is 1\n",
    "if length == 1:\n",
    "    fib_seq = [0]\n",
    "#The length of the sequence is 2\n",
    "if length == 2:\n",
    "    fib_seq = [0, 1]\n",
    "fib_seq = [0, 1]\n",
    "#The length of the sequence is more than 2\n",
    "for i in range(2, length):\n",
    "    #Add the summation of its preceding two numbers\n",
    "    fib_seq.append(fib_seq[i - 1] + fib_seq[i - 2])\n",
    "print(fib_seq)"
   ]
  }
 ],
 "metadata": {
  "kernelspec": {
   "display_name": "PyCharm (Python)",
   "language": "python",
   "name": "pycharm-a555b8c5"
  },
  "language_info": {
   "codemirror_mode": {
    "name": "ipython",
    "version": 3
   },
   "file_extension": ".py",
   "mimetype": "text/x-python",
   "name": "python",
   "nbconvert_exporter": "python",
   "pygments_lexer": "ipython3",
   "version": "3.9.0"
  }
 },
 "nbformat": 4,
 "nbformat_minor": 4
}
