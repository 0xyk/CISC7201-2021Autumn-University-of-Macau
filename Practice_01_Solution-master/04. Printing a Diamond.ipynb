{
 "cells": [
  {
   "cell_type": "code",
   "execution_count": 1,
   "id": "40f66519",
   "metadata": {},
   "outputs": [],
   "source": [
    "#1,3,5,3,1"
   ]
  },
  {
   "cell_type": "code",
   "execution_count": 2,
   "id": "0dd5a079",
   "metadata": {},
   "outputs": [
    {
     "name": "stdout",
     "output_type": "stream",
     "text": [
      "*\n",
      "*\n",
      "*\n",
      "*\n",
      "*\n",
      "*\n",
      "*\n",
      "*\n",
      "*\n",
      "*\n",
      "*\n",
      "*\n",
      "*\n",
      "*\n",
      "*\n",
      "*\n",
      "*\n",
      "*\n",
      "*\n",
      "*\n",
      "*\n",
      "*\n",
      "*\n",
      "*\n",
      "*\n"
     ]
    }
   ],
   "source": [
    "for i in range(5):\n",
    "    for j in range(5):\n",
    "        print(\"*\")"
   ]
  },
  {
   "cell_type": "code",
   "execution_count": 3,
   "id": "108f84cf",
   "metadata": {},
   "outputs": [
    {
     "name": "stdout",
     "output_type": "stream",
     "text": [
      "*************************"
     ]
    }
   ],
   "source": [
    "# google \"print python with newline\"\n",
    "for i in range(5):\n",
    "    for j in range(5):\n",
    "        print(\"*\", end=\"\")"
   ]
  },
  {
   "cell_type": "code",
   "execution_count": 4,
   "id": "6761d2c4",
   "metadata": {},
   "outputs": [
    {
     "name": "stdout",
     "output_type": "stream",
     "text": [
      "*****\n",
      "*****\n",
      "*****\n",
      "*****\n",
      "*****\n"
     ]
    }
   ],
   "source": [
    "# google \"print python with newline\"\n",
    "for i in range(5):\n",
    "    # the following lines are run within the outer loop \"i in range(5)\"\n",
    "    for j in range(5):\n",
    "        print(\"*\", end=\"\")\n",
    "    print(\"\")"
   ]
  },
  {
   "cell_type": "code",
   "execution_count": 5,
   "id": "97c051db",
   "metadata": {},
   "outputs": [
    {
     "name": "stdout",
     "output_type": "stream",
     "text": [
      "*\n",
      "**\n",
      "***\n",
      "****\n",
      "*****\n"
     ]
    }
   ],
   "source": [
    "# try to print a right triangle first\n",
    "for i in range(5):\n",
    "    # the following lines are run within the outer loop \"i in range(5)\"\n",
    "    for j in range(i+1):\n",
    "        print(\"*\", end=\"\")\n",
    "    print(\"\")"
   ]
  },
  {
   "cell_type": "code",
   "execution_count": 6,
   "id": "e1236d90",
   "metadata": {},
   "outputs": [
    {
     "name": "stdout",
     "output_type": "stream",
     "text": [
      "    *\n",
      "   **\n",
      "  ***\n",
      " ****\n",
      "*****\n"
     ]
    }
   ],
   "source": [
    "# try to print a right triangle first\n",
    "for i in range(5): # 0, 1, 2, 3, 4\n",
    "    # the following lines are run within the outer loop \"i in range(5)\"\n",
    "    for j in range(5-(i+1)):\n",
    "        print(\" \",end=\"\")\n",
    "    for j in range(i+1):\n",
    "        print(\"*\", end=\"\")\n",
    "    print(\"\")"
   ]
  },
  {
   "cell_type": "code",
   "execution_count": 7,
   "id": "da6957b7",
   "metadata": {},
   "outputs": [
    {
     "name": "stdout",
     "output_type": "stream",
     "text": [
      "  *\n",
      " ***\n",
      "*****\n"
     ]
    }
   ],
   "source": [
    "# try to print a half diamond\n",
    "n=5\n",
    "for i in range(int(n/2)+1): # 0, 1, 2\n",
    "    for j in range(int(n/2)-i):\n",
    "        print(\" \",end=\"\")\n",
    "    for j in range(i*2+1):\n",
    "        print(\"*\", end=\"\")\n",
    "    print(\"\")"
   ]
  },
  {
   "cell_type": "code",
   "execution_count": 8,
   "id": "41687625",
   "metadata": {},
   "outputs": [
    {
     "name": "stdout",
     "output_type": "stream",
     "text": [
      "5\n",
      "  *\n",
      " ***\n",
      "*****\n",
      " ***\n",
      "  *\n"
     ]
    }
   ],
   "source": [
    "# try to print a complete diamond\n",
    "n=int(input())\n",
    "for i in range(n): # 0, 1, 2, 3, 4\n",
    "    # the following lines are run within the outer loop \"i in range(5)\"\n",
    "    if i<=int(n/2):\n",
    "        for j in range(int(n/2)-i):\n",
    "            print(\" \",end=\"\")\n",
    "        for j in range(i*2+1):\n",
    "            print(\"*\", end=\"\")\n",
    "    else:\n",
    "        for j in range(i-int(n/2)):\n",
    "            print(\" \",end=\"\")\n",
    "        for j in range((n-i-1)*2+1):\n",
    "            print(\"*\", end=\"\")\n",
    "    print(\"\")"
   ]
  },
  {
   "cell_type": "markdown",
   "id": "de1b9816",
   "metadata": {},
   "source": [
    "## Solution 2\n",
    "Try to find the relation of spaces and '\\*' with iterator\n",
    "\n",
    "when size = 5:\n",
    "\n",
    " i  = '  0 1 2 3 4\n",
    "\n",
    "' ' =  2 1 0 1 2\n",
    "\n",
    "'\\*' = 1 3 5 3 1\n",
    "\n",
    "Since the amount of ' ' and '\\*' are all symmetric, we can let i also be symmetric so that it's relation is more obvious.\n",
    "\n",
    " i  =  0  1 2 3 4\n",
    "\n",
    "i-2 = -2 -1 0 1 2\n",
    "\n",
    "' ' =  2  1 0 1 2\n",
    "\n",
    "'\\*' =  1  3 5 3 1\n",
    "\n",
    "you may noticed that \n",
    "\n",
    "the amount of ' ' is equal to abs(i-2)\n",
    "\n",
    "the amount of '\\*' is equal to 5-2*abs(i-2)\n",
    "\n",
    "then you can try to write down the case with size 7,9 or 11,\n",
    "\n",
    "you will get a general form:\n",
    "\n",
    "the amount of ' ' is equal to abs(i-size//2)\n",
    "\n",
    "the amount of '\\*' is equal to size-2*abs(i-size//2)"
   ]
  },
  {
   "cell_type": "code",
   "execution_count": 9,
   "id": "a7e7eec5",
   "metadata": {},
   "outputs": [
    {
     "name": "stdout",
     "output_type": "stream",
     "text": [
      "5\n",
      "  *\n",
      " ***\n",
      "*****\n",
      " ***\n",
      "  *\n"
     ]
    }
   ],
   "source": [
    "size = int(input())\n",
    "for i in range(0,size):\n",
    "    print(' '*abs(i-size//2),end='')\n",
    "    print('*' * (size-2*abs(i-size//2)))"
   ]
  },
  {
   "cell_type": "code",
   "execution_count": 10,
   "id": "abdf262c",
   "metadata": {},
   "outputs": [
    {
     "name": "stdout",
     "output_type": "stream",
     "text": [
      "5\n",
      "  *\n",
      " ***\n",
      "*****\n",
      " ***\n",
      "  *\n"
     ]
    }
   ],
   "source": [
    "size = int(input())\n",
    "for i in range(-int(size/2),int(size/2)+1):\n",
    "    print(abs(i)*' '+(size-2*abs(i))*'*',end='\\n')"
   ]
  },
  {
   "cell_type": "code",
   "execution_count": null,
   "id": "69b95afe",
   "metadata": {},
   "outputs": [],
   "source": []
  }
 ],
 "metadata": {
  "interpreter": {
   "hash": "7826722ec4367e2873e398bb03d07cf2c0b573181d0473081d0deef1891c47cd"
  },
  "kernelspec": {
   "display_name": "Python 3",
   "language": "python",
   "name": "python3"
  },
  "language_info": {
   "codemirror_mode": {
    "name": "ipython",
    "version": 3
   },
   "file_extension": ".py",
   "mimetype": "text/x-python",
   "name": "python",
   "nbconvert_exporter": "python",
   "pygments_lexer": "ipython3",
   "version": "3.8.8"
  }
 },
 "nbformat": 4,
 "nbformat_minor": 5
}
