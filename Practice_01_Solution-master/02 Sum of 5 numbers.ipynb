{
 "cells": [
  {
   "cell_type": "markdown",
   "metadata": {},
   "source": [
    "# Input handling\n",
    "All the return you can from input() is a string, It's then need to be converted to a suitbale data format.\n",
    "\n",
    "In this question the input() give you a list of numbers seperated by a column, and you need to convert it to a list of integers.\n"
   ]
  },
  {
   "cell_type": "markdown",
   "metadata": {},
   "source": [
    "First you need to get the string from the input"
   ]
  },
  {
   "cell_type": "code",
   "execution_count": 15,
   "metadata": {},
   "outputs": [
    {
     "name": "stdout",
     "output_type": "stream",
     "text": [
      "1 2 3 4 5\n",
      "<class 'str'>\n"
     ]
    }
   ],
   "source": [
    "nums_string = input()\n",
    "print(nums_string)\n",
    "print(type(nums_string)) #check the type of it"
   ]
  },
  {
   "cell_type": "markdown",
   "metadata": {},
   "source": [
    "Second you need to seperate the number by space to convert it as a list.\n",
    "We can use split() here"
   ]
  },
  {
   "cell_type": "code",
   "execution_count": 16,
   "metadata": {},
   "outputs": [
    {
     "name": "stdout",
     "output_type": "stream",
     "text": [
      "['1', '2', '3', '4', '5']\n",
      "<class 'list'>\n",
      "<class 'str'>\n"
     ]
    }
   ],
   "source": [
    "nums_string_list = nums_string.split()\n",
    "print(nums_string_list)\n",
    "print(type(nums_string_list)) # it is a list\n",
    "print(type(nums_string_list[0])) # the element in this list is in string type\n"
   ]
  },
  {
   "cell_type": "markdown",
   "metadata": {},
   "source": [
    "Since we are doing sum, we hope the data type to be integer,you need to convert the element in the list from string type to int type."
   ]
  },
  {
   "cell_type": "code",
   "execution_count": 17,
   "metadata": {},
   "outputs": [
    {
     "name": "stdout",
     "output_type": "stream",
     "text": [
      "[1, 2, 3, 4, 5]\n",
      "<class 'list'>\n",
      "<class 'int'>\n"
     ]
    }
   ],
   "source": [
    "nums_int_list = nums_string_list\n",
    "for i in range(len(nums_string_list)):\n",
    "    nums_int_list[i] = int(nums_string_list[i])\n",
    "    \n",
    "print(nums_int_list)\n",
    "print(type(nums_int_list)) # it is a list\n",
    "print(type(nums_int_list[0])) # the element in this list is in int type\n",
    "\n",
    "    "
   ]
  },
  {
   "cell_type": "markdown",
   "metadata": {},
   "source": [
    "We apply the sum() on the integer list to get the result"
   ]
  },
  {
   "cell_type": "code",
   "execution_count": 19,
   "metadata": {},
   "outputs": [
    {
     "name": "stdout",
     "output_type": "stream",
     "text": [
      "15\n"
     ]
    }
   ],
   "source": [
    "\n",
    "answer = sum(nums_int_list)\n",
    "print(answer)"
   ]
  },
  {
   "cell_type": "markdown",
   "metadata": {},
   "source": [
    "# Solution of this problem"
   ]
  },
  {
   "cell_type": "code",
   "execution_count": 20,
   "metadata": {},
   "outputs": [
    {
     "name": "stdout",
     "output_type": "stream",
     "text": [
      "15\n"
     ]
    }
   ],
   "source": [
    "#Input handling using numpy(preferred):\n",
    "\"\"\"\n",
    "import numpy as np\n",
    "nums = np.array(input().split(),int)\n",
    "\"\"\"\n",
    "\n",
    "#simple input handling using list:\n",
    "nums = input()\n",
    "nums = nums.split()\n",
    "for i in range(len(nums)):\n",
    "  nums[i] = int(nums[i])\n",
    "\n",
    "#input handling using list comprehension:\n",
    "\"\"\"\n",
    "nums = [int(num) for num in input().split()]\n",
    "\"\"\"\n",
    "\n",
    "print(sum(nums))\n"
   ]
  }
 ],
 "metadata": {
  "interpreter": {
   "hash": "7826722ec4367e2873e398bb03d07cf2c0b573181d0473081d0deef1891c47cd"
  },
  "kernelspec": {
   "display_name": "Python 3",
   "language": "python",
   "name": "python3"
  },
  "language_info": {
   "codemirror_mode": {
    "name": "ipython",
    "version": 3
   },
   "file_extension": ".py",
   "mimetype": "text/x-python",
   "name": "python",
   "nbconvert_exporter": "python",
   "pygments_lexer": "ipython3",
   "version": "3.8.8"
  }
 },
 "nbformat": 4,
 "nbformat_minor": 2
}
