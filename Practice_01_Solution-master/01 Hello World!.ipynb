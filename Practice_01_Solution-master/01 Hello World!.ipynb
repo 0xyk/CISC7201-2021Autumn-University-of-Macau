{
 "cells": [
  {
   "cell_type": "markdown",
   "id": "4d2d3f3d",
   "metadata": {},
   "source": [
    "# Python output #\n",
    "\n",
    "The basic input and output of python is directly operated on the standard device(screen)\n",
    "\n",
    "An example of its use is given below."
   ]
  },
  {
   "cell_type": "markdown",
   "id": "43871720",
   "metadata": {},
   "source": []
  },
  {
   "cell_type": "code",
   "execution_count": 1,
   "id": "abca84a0",
   "metadata": {},
   "outputs": [
    {
     "name": "stdout",
     "output_type": "stream",
     "text": [
      "The value of a is 5\n"
     ]
    }
   ],
   "source": [
    "a = 5\n",
    "print('The value of a is', a)"
   ]
  },
  {
   "cell_type": "markdown",
   "id": "d7834301",
   "metadata": {},
   "source": [
    "The actual syntax of the print() function is:\n"
   ]
  },
  {
   "cell_type": "code",
   "execution_count": 2,
   "id": "69134b2f",
   "metadata": {},
   "outputs": [],
   "source": [
    "#print(*objects, sep=' ', end='\\n', file=sys.stdout, flush=False)\n"
   ]
  },
  {
   "cell_type": "markdown",
   "id": "0b3df671",
   "metadata": {},
   "source": [
    "The '\\*objects' is the object you want to pass to print function ,the print in python is able to print many types of object (list,dict,int), you can reference this link to understand the '\\*args'\n",
    "https://stackoverflow.com/questions/36901/what-does-double-star-asterisk-and-star-asterisk-do-for-parameters\n",
    "\n",
    "The 'sep' is the symbol to seperate each instance in given *objects, it's default value is ' ' which is a space.\n",
    "\n",
    "The 'end' is the symbol to output at the end of print function call, it is usally used to print a new line. It's default value is '\\n' which is the new line symbol you can google it. \n",
    "\n",
    "The 'file' is the object where the values are printed and its default value is sys.stdout (screen).\n",
    "\n",
    "\n",
    " Here is an example to illustrate this."
   ]
  },
  {
   "cell_type": "code",
   "execution_count": 41,
   "id": "a277fe75",
   "metadata": {},
   "outputs": [
    {
     "name": "stdout",
     "output_type": "stream",
     "text": [
      "1 2 3 4Hello1*2*3*4\n",
      "1#2#3#4&"
     ]
    }
   ],
   "source": [
    "print(1, 2, 3, 4, end = '') # no '\\n'(newline) at the end of print\n",
    "print(1, 2, 3, 4, sep='*')\n",
    "print(1, 2, 3, 4, sep='#', end='&')"
   ]
  },
  {
   "cell_type": "markdown",
   "id": "ef0cf854",
   "metadata": {},
   "source": [
    "# Python Input\n",
    "To allow flexibility, we might want to take the input from the user. In Python, we have the input() function to allow this. The syntax for input() is:\n",
    "\n"
   ]
  },
  {
   "cell_type": "code",
   "execution_count": null,
   "id": "60328fed",
   "metadata": {},
   "outputs": [],
   "source": [
    "#input([prompt])"
   ]
  },
  {
   "cell_type": "markdown",
   "id": "4e924ef0",
   "metadata": {},
   "source": [
    "where prompt is the string we wish to display on the screen. It is optional.\n",
    "## <font color=#FF0000>Do not display any prompt in Online Judge!</font>\n",
    "\n",
    "\n"
   ]
  },
  {
   "cell_type": "code",
   "execution_count": null,
   "id": "d0fff6b5",
   "metadata": {},
   "outputs": [
    {
     "data": {
      "text/plain": [
       "'10'"
      ]
     },
     "execution_count": 34,
     "metadata": {},
     "output_type": "execute_result"
    }
   ],
   "source": [
    "num = input('Enter a number: ')\n",
    "num"
   ]
  },
  {
   "cell_type": "markdown",
   "id": "f723ef30",
   "metadata": {},
   "source": [
    "Here, we can see that the entered value 10 is a string, not a number. To convert this into a number we can use int() or float() functions."
   ]
  },
  {
   "cell_type": "code",
   "execution_count": null,
   "id": "86942f8b",
   "metadata": {},
   "outputs": [
    {
     "data": {
      "text/plain": [
       "10"
      ]
     },
     "execution_count": 31,
     "metadata": {},
     "output_type": "execute_result"
    }
   ],
   "source": [
    "int('10')"
   ]
  },
  {
   "cell_type": "code",
   "execution_count": null,
   "id": "6c6b2c72",
   "metadata": {},
   "outputs": [
    {
     "data": {
      "text/plain": [
       "10.0"
      ]
     },
     "execution_count": 32,
     "metadata": {},
     "output_type": "execute_result"
    }
   ],
   "source": [
    "float('10')"
   ]
  },
  {
   "cell_type": "markdown",
   "id": "c893bbc3",
   "metadata": {},
   "source": [
    "# Python String formatting"
   ]
  },
  {
   "cell_type": "markdown",
   "id": "1497477c",
   "metadata": {},
   "source": [
    "## Definition and Usage\n",
    "\n",
    "The format() method formats the specified value(s) and insert them inside the string's placeholder.\n",
    "\n",
    "The placeholder is defined using curly brackets: {}. Read more about the placeholders on google.\n",
    "\n",
    "The format() method returns the formatted string."
   ]
  },
  {
   "cell_type": "code",
   "execution_count": 37,
   "id": "536bf143",
   "metadata": {},
   "outputs": [
    {
     "name": "stdout",
     "output_type": "stream",
     "text": [
      "Hello Adam, your balance is 230.2346.\n",
      "Hello Adam, your balance is 230.2346.\n",
      "Hello Adam, your balance is 230.2346.\n",
      "Hello Adam, your balance is 230.2346.\n"
     ]
    }
   ],
   "source": [
    "# default arguments\n",
    "print(\"Hello {}, your balance is {}.\".format(\"Adam\", 230.2346))\n",
    "\n",
    "# positional arguments\n",
    "print(\"Hello {0}, your balance is {1}.\".format(\"Adam\", 230.2346))\n",
    "\n",
    "# keyword arguments\n",
    "print(\"Hello {name}, your balance is {blc}.\".format(name=\"Adam\", blc=230.2346))\n",
    "\n",
    "# mixed arguments\n",
    "print(\"Hello {0}, your balance is {blc}.\".format(\"Adam\", blc=230.2346))"
   ]
  },
  {
   "cell_type": "markdown",
   "id": "63462230",
   "metadata": {},
   "source": [
    "# Solution of this problem"
   ]
  },
  {
   "cell_type": "code",
   "execution_count": null,
   "id": "64e1489f",
   "metadata": {},
   "outputs": [],
   "source": [
    "#Solution 1\n",
    "s = input()\n",
    "print(\"Hello \" + s +'!')"
   ]
  },
  {
   "cell_type": "code",
   "execution_count": null,
   "id": "20824e13",
   "metadata": {},
   "outputs": [],
   "source": [
    "#Solution 2\n",
    "s = input()\n",
    "print(\"Hello {}!\".format(s))"
   ]
  },
  {
   "cell_type": "code",
   "execution_count": null,
   "id": "d1bfaa82",
   "metadata": {},
   "outputs": [],
   "source": [
    "#Solution 3\n",
    "s = input()\n",
    "print(\"Hello %s!\"%s)"
   ]
  }
 ],
 "metadata": {
  "interpreter": {
   "hash": "7826722ec4367e2873e398bb03d07cf2c0b573181d0473081d0deef1891c47cd"
  },
  "kernelspec": {
   "display_name": "Python 3",
   "language": "python",
   "name": "python3"
  },
  "language_info": {
   "codemirror_mode": {
    "name": "ipython",
    "version": 3
   },
   "file_extension": ".py",
   "mimetype": "text/x-python",
   "name": "python",
   "nbconvert_exporter": "python",
   "pygments_lexer": "ipython3",
   "version": "3.8.8"
  }
 },
 "nbformat": 4,
 "nbformat_minor": 5
}
