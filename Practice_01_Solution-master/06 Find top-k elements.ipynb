{
 "cells": [
  {
   "cell_type": "markdown",
   "source": [
    "## Input handling"
   ],
   "metadata": {}
  },
  {
   "cell_type": "code",
   "execution_count": 1,
   "source": [
    "k,nums = input().split(' ',1)\r\n",
    "k = int(k)\r\n",
    "nums = [int(x) for x in nums.split()]"
   ],
   "outputs": [],
   "metadata": {}
  },
  {
   "cell_type": "markdown",
   "source": [
    "## Solution\r\n",
    "1. Sorting\r\n"
   ],
   "metadata": {}
  },
  {
   "cell_type": "code",
   "execution_count": 3,
   "source": [
    "print(*sorted(nums)[-k:])\r\n"
   ],
   "outputs": [
    {
     "output_type": "stream",
     "name": "stdout",
     "text": [
      "3231 3546 6786 14564 32132\n"
     ]
    }
   ],
   "metadata": {}
  },
  {
   "cell_type": "markdown",
   "source": [
    "2. Heap\r\n",
    "\r\n",
    "Maintain a priority(ascending order) list 'TopK' to store the top-k elements,\r\n",
    "In each iteration,compare candidate element with the first element(smallest) of 'TopK' if the candidate is larger, remove the first element and add the candidate to 'TopK' so that the length of 'TopK' is always k.\r\n",
    "\r\n",
    "A heap is a balance binary tree, it can help maintain a ordered list.\r\n",
    "\r\n",
    "we can maintain a heap with length k, the first element on the list is always the smallest(or largest depends on your demand)."
   ],
   "metadata": {}
  },
  {
   "cell_type": "code",
   "execution_count": 4,
   "source": [
    "import heapq\r\n",
    "# use the heapq package to implement heap\r\n",
    "\r\n",
    "input_ = '5 1231 3231 3212 3546 6786 751 321 321 32132 14564'\r\n",
    "k,nums = input_.split(' ',1)\r\n",
    "k = int(k)\r\n",
    "nums = [int(x) for x in nums.split()]\r\n",
    "\r\n",
    "topK = nums[:k]\r\n",
    "heapq.heapify(topK)\r\n",
    "for i in range(k,len(nums)):\r\n",
    "    if nums[i]>topK[0]:\r\n",
    "        heapq.heappop(topK)\r\n",
    "        heapq.heappush(topK,nums[i])\r\n",
    "\r\n",
    "for i in heapq.nsmallest(k,topK):\r\n",
    "  print(i,end=' ')\r\n",
    "\r\n"
   ],
   "outputs": [
    {
     "output_type": "stream",
     "name": "stdout",
     "text": [
      "3231 3546 6786 14564 32132 "
     ]
    }
   ],
   "metadata": {}
  }
 ],
 "metadata": {
  "orig_nbformat": 4,
  "language_info": {
   "name": "python",
   "version": "3.7.6",
   "mimetype": "text/x-python",
   "codemirror_mode": {
    "name": "ipython",
    "version": 3
   },
   "pygments_lexer": "ipython3",
   "nbconvert_exporter": "python",
   "file_extension": ".py"
  },
  "kernelspec": {
   "name": "python3",
   "display_name": "Python 3.7.6 64-bit ('base': conda)"
  },
  "interpreter": {
   "hash": "7826722ec4367e2873e398bb03d07cf2c0b573181d0473081d0deef1891c47cd"
  }
 },
 "nbformat": 4,
 "nbformat_minor": 2
}