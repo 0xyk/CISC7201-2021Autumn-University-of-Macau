{
 "cells": [
  {
   "cell_type": "code",
   "execution_count": 2,
   "source": [
    "## Input Handling\r\n",
    "s = input().split(sep=',')\r\n",
    "credits = [int(x.split(sep = ' ')[0]) for x in s]\r\n",
    "scores = [int(x.split(sep = ' ')[1]) for x in s]"
   ],
   "outputs": [],
   "metadata": {}
  },
  {
   "cell_type": "markdown",
   "source": [
    "We can seperated the task with two steps:\r\n",
    "\r\n",
    "a) calculate the average marks\r\n",
    "\r\n",
    "b) map the marks to GPA"
   ],
   "metadata": {}
  },
  {
   "cell_type": "markdown",
   "source": [
    "The Total marks is a weighted sum with respect to credits and scores\r\n",
    "\r\n"
   ],
   "metadata": {}
  },
  {
   "cell_type": "code",
   "execution_count": 3,
   "source": [
    "total_marks = 0\r\n",
    "for i in range(len(credits)):\r\n",
    "    total_marks += credits[i]*scores[i]"
   ],
   "outputs": [],
   "metadata": {}
  },
  {
   "cell_type": "markdown",
   "source": [
    "The avg marks = total_marks/(sum of scores)\r\n",
    "represent the avg marks per scores"
   ],
   "metadata": {}
  },
  {
   "cell_type": "code",
   "execution_count": 4,
   "source": [
    "avg_marks = total_marks / sum(credits)"
   ],
   "outputs": [],
   "metadata": {}
  },
  {
   "cell_type": "markdown",
   "source": [
    "b) maps the marks to GPA\r\n",
    "\r\n",
    "you can use if-else structure or use indexing"
   ],
   "metadata": {}
  },
  {
   "cell_type": "code",
   "execution_count": 5,
   "source": [
    "gpa_ranges = [93,88,83,78,73,68,63,58,53,50,0]\r\n",
    "GPA = ['A','A-','B+','B','B-','C+','C','C-','D+','D','F']\r\n",
    "\r\n",
    "for i in range(len(gpa_ranges)):\r\n",
    "    if avg_marks >= gpa_ranges[i]:\r\n",
    "        print(GPA[i])\r\n",
    "        break"
   ],
   "outputs": [
    {
     "output_type": "stream",
     "name": "stdout",
     "text": [
      "B+\n"
     ]
    }
   ],
   "metadata": {}
  },
  {
   "cell_type": "markdown",
   "source": [
    "As we mentioned in Q3 we can use binary search to accelerate the indexing.\r\n",
    "You can try to implement it if you are interested in"
   ],
   "metadata": {}
  }
 ],
 "metadata": {
  "orig_nbformat": 4,
  "language_info": {
   "name": "python",
   "version": "3.7.6",
   "mimetype": "text/x-python",
   "codemirror_mode": {
    "name": "ipython",
    "version": 3
   },
   "pygments_lexer": "ipython3",
   "nbconvert_exporter": "python",
   "file_extension": ".py"
  },
  "kernelspec": {
   "name": "python3",
   "display_name": "Python 3.7.6 64-bit ('base': conda)"
  },
  "interpreter": {
   "hash": "7826722ec4367e2873e398bb03d07cf2c0b573181d0473081d0deef1891c47cd"
  }
 },
 "nbformat": 4,
 "nbformat_minor": 2
}