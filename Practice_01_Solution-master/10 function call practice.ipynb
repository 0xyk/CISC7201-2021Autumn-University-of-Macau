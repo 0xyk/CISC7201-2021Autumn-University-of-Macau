{
 "cells": [
  {
   "cell_type": "code",
   "execution_count": 1,
   "source": [
    "def hello(name:str)->str:\r\n",
    "  msg = 'Hi,%s!'%name\r\n",
    "  return msg"
   ],
   "outputs": [],
   "metadata": {}
  }
 ],
 "metadata": {
  "orig_nbformat": 4,
  "language_info": {
   "name": "python",
   "version": "3.7.6",
   "mimetype": "text/x-python",
   "codemirror_mode": {
    "name": "ipython",
    "version": 3
   },
   "pygments_lexer": "ipython3",
   "nbconvert_exporter": "python",
   "file_extension": ".py"
  },
  "kernelspec": {
   "name": "python3",
   "display_name": "Python 3.7.6 64-bit ('base': conda)"
  },
  "interpreter": {
   "hash": "7826722ec4367e2873e398bb03d07cf2c0b573181d0473081d0deef1891c47cd"
  }
 },
 "nbformat": 4,
 "nbformat_minor": 2
}