{
 "cells": [
  {
   "cell_type": "markdown",
   "metadata": {},
   "source": [
    "## Input handling:"
   ]
  },
  {
   "cell_type": "code",
   "execution_count": null,
   "metadata": {},
   "outputs": [],
   "source": [
    "target,nums = input().split(' ',1)\n",
    "target = int(target)\n",
    "nums = [int(x) for x in nums.split(' ')]"
   ]
  },
  {
   "cell_type": "markdown",
   "metadata": {},
   "source": [
    "## Loop iteratation in python\n",
    "1. Iterate by index, utilze 'range' and 'len' to iterate all the elements index.\n",
    "the iterator i represent the index(position)."
   ]
  },
  {
   "cell_type": "code",
   "execution_count": 2,
   "metadata": {},
   "outputs": [
    {
     "name": "stdout",
     "output_type": "stream",
     "text": [
      "3 5 6 7 1 5 "
     ]
    }
   ],
   "source": [
    "l = [3,5,6,7,1,5]\n",
    "for i in range(len(l)):\n",
    "    print(l[i],end=' ')"
   ]
  },
  {
   "cell_type": "markdown",
   "metadata": {},
   "source": [
    "2. Iterate by element.\n",
    "The iterator i represent the elements in the list"
   ]
  },
  {
   "cell_type": "code",
   "execution_count": 3,
   "metadata": {},
   "outputs": [
    {
     "name": "stdout",
     "output_type": "stream",
     "text": [
      "3 5 6 7 1 5 "
     ]
    }
   ],
   "source": [
    "l = [3,5,6,7,1,5]\n",
    "for i in l:\n",
    "    print(i,end=' ')"
   ]
  },
  {
   "cell_type": "markdown",
   "metadata": {},
   "source": [
    "3. Combine index and element with enumerate()"
   ]
  },
  {
   "cell_type": "code",
   "execution_count": 5,
   "metadata": {},
   "outputs": [
    {
     "name": "stdout",
     "output_type": "stream",
     "text": [
      "The index 0 element is 3  The index 1 element is 5  The index 2 element is 6  The index 3 element is 7  The index 4 element is 1  The index 5 element is 5  "
     ]
    }
   ],
   "source": [
    "l = [3,5,6,7,1,5]\n",
    "for i,element in enumerate(l):\n",
    "    print('The index %d element is %d '%(i,element),end=' ')"
   ]
  },
  {
   "cell_type": "markdown",
   "metadata": {},
   "source": [
    "## Solution\n",
    "\n",
    "1.Brute force $O(N^2)$ :\n",
    "\n",
    "with two layers of loop iteration, one iterate the first number, the other one iterate the second number."
   ]
  },
  {
   "cell_type": "code",
   "execution_count": 6,
   "metadata": {},
   "outputs": [
    {
     "name": "stdout",
     "output_type": "stream",
     "text": [
      "2 3\n"
     ]
    }
   ],
   "source": [
    "target = 20\n",
    "nums = [9,10,5,15]\n",
    "\n",
    "#Since we can not reuse the same element, the index of number\n",
    "#the index of first number should be start from 0 and end with the next to last\n",
    "#the index of second number should be start from next to the first number and end with the last\n",
    "\n",
    "#iterate by index\n",
    "for i in range(0,len(nums)-1):\n",
    "    for j in range(i+1,len(nums)):\n",
    "        if nums[i]+nums[j] == target:\n",
    "            print(i,j)\n",
    "            #We have find the result now we can end the iteration by 'break'\n",
    "            break\n",
    "        \n"
   ]
  },
  {
   "cell_type": "markdown",
   "metadata": {},
   "source": [
    "2.sort + binary search $O(NlogN)$ :\n",
    " \n",
    "The problem can be divided as two parts:\n",
    "\n",
    "(a)Find the first number: Iterate from 0 to the next to last to find it as the solution 1 describe.\n",
    "\n",
    "(b)Find the second number: The second number is equals to target-first_number. So the task is to find whether it exist in the list.\n",
    "\n",
    "\n",
    "The fastest sorting to a list is 'Quick Sort' $O(NlogN)$ which is included as default function sort() or sorted() in python ,then we apply binary search $O(logN)$ To find a number in a sorted list."
   ]
  },
  {
   "cell_type": "code",
   "execution_count": 21,
   "metadata": {},
   "outputs": [
    {
     "name": "stdout",
     "output_type": "stream",
     "text": [
      "search end with 3 steps\n",
      "target 35 is in position 11\n",
      "search end with 4 steps\n",
      "target 42 does not exist\n"
     ]
    }
   ],
   "source": [
    "#binary search\n",
    "\n",
    "def binary_search(nums,target):\n",
    "    l = 0\n",
    "    r = len(nums)-1\n",
    "    step = 0\n",
    "    while(l<=r):\n",
    "        step+=1\n",
    "        mid = (l+r)//2\n",
    "        if nums[mid] == target:\n",
    "            #return the index of the number\n",
    "            print('search end with %d steps'%step)\n",
    "            return mid\n",
    "        elif nums[mid] < target:\n",
    "            l = mid+1\n",
    "        elif nums[mid]> target:\n",
    "            r = mid-1\n",
    "    # if not found then return the length of nums\n",
    "    print('search end with %d steps'%step)\n",
    "    return len(nums)\n",
    "            \n",
    "nums = [1, 2, 4, 5, 5, 5, 6, 8, 9, 10, 23, 35, 89]\n",
    "#you can only apply binary search to a sorted list\n",
    "target = 35\n",
    "pos = binary_search(nums,target)\n",
    "print('target %d is in position %d'%(target,pos) if pos!=len(nums) else 'target %d does not exist'%target)\n",
    "\n",
    "target = 42\n",
    "pos = binary_search(nums,target)\n",
    "print('target %d is in position %d'%(target,pos) if pos!=len(nums) else 'target %d does not exist'%target)\n",
    "\n",
    "\n",
    "    "
   ]
  },
  {
   "cell_type": "code",
   "execution_count": 23,
   "metadata": {},
   "outputs": [
    {
     "name": "stdout",
     "output_type": "stream",
     "text": [
      "[5, 9, 10, 15]\n",
      "0 3\n"
     ]
    }
   ],
   "source": [
    "target = 20\n",
    "nums = [9,10,5,15]\n",
    "\n",
    "#.sort() is a inplace function which will modify nums directly and does not have return\n",
    "nums.sort()\n",
    "#sorted() is a function with the sorted list as return, we need to modify the nums with assignment statement\n",
    "nums = sorted(nums)\n",
    "print(nums)\n",
    "for i in range(len(nums)-1):\n",
    "    #(a) find the first number with iteration\n",
    "    first_number = nums[i]\n",
    "    #(b) find the second number with binary search\n",
    "    second_number = target-first_number\n",
    "    from bisect import bisect_left \n",
    "    #the bisect libarary has implemented the binary search\n",
    "    pos = bisect_left(nums,second_number)\n",
    "    \n",
    "    #if target is not in nums it will return length of nums\n",
    "    if pos!=len(nums):\n",
    "        #we find it!\n",
    "        print(i,pos)\n",
    "        break\n"
   ]
  },
  {
   "cell_type": "markdown",
   "metadata": {},
   "source": [
    "However, the above solution is not correct, since the order of the list has been modified with sort! the position we found is the position on the sorted list.\n",
    "\n",
    "We need to know the position on the original list!\n",
    "We can claim the number as a class which contains the value and the original position and define the comparator of it.\n",
    "You may find the following script is quite complicated you can spend some time to understand it if you are interseted in"
   ]
  },
  {
   "cell_type": "code",
   "execution_count": 49,
   "metadata": {},
   "outputs": [],
   "source": [
    "\n",
    "class Nums_with_Position:\n",
    "    #initialize\n",
    "    def __init__(self,value,org_position):\n",
    "        self.value = value\n",
    "        self.org_position = org_position\n",
    "    \n",
    "    #define the equality of the class   \n",
    "    def __eq__(self, other):\n",
    "        if isinstance(other,int):\n",
    "            return self.value==other\n",
    "        return self.value == other.value\n",
    "    #define the comparator(little) of the class\n",
    "    def __lt__(self, other):\n",
    "        if isinstance(other,int):\n",
    "            return self.value < other\n",
    "        return self.value < other.value\n",
    "    #define the comparator(greater) of the class\n",
    "    def __gt__(self, other):\n",
    "        if isinstance(other,int):\n",
    "            return self.value > other\n",
    "        return self.value > other.value\n",
    "    \n",
    "    #define the print operation\n",
    "    def __str__(self) -> str:\n",
    "        return str(self.org_position)"
   ]
  },
  {
   "cell_type": "code",
   "execution_count": 50,
   "metadata": {},
   "outputs": [
    {
     "name": "stdout",
     "output_type": "stream",
     "text": [
      "search end with 3 steps\n",
      "2 3\n"
     ]
    }
   ],
   "source": [
    "\n",
    "#the bisect libarary has implemented the binary search\n",
    "target = 20\n",
    "nums = [9,10,5,15]\n",
    "\n",
    "#redefine the list of int nums to list of 'Nums_with_Position' object\n",
    "nums = [Nums_with_Position(x,i) for i,x in enumerate(nums)]\n",
    "\n",
    "#.sort() is a inplace function which will modify nums directly and does not have return\n",
    "nums.sort()\n",
    "\n",
    "for i in range(len(nums)-1):\n",
    "    #(a) find the first number with iteration\n",
    "    first_number = nums[i].value\n",
    "    #(b) find the second number with binary search\n",
    "    second_number = target-first_number\n",
    "    pos = binary_search(nums,second_number)\n",
    "    \n",
    "    #if target is not in nums it will return length of nums\n",
    "    if pos!=len(nums):\n",
    "        #use sorted to convert the order to ascending\n",
    "        print(*sorted([nums[i].org_position,nums[pos].org_position]))\n",
    "        break"
   ]
  },
  {
   "cell_type": "markdown",
   "metadata": {},
   "source": [
    "3.Use 'dict' to store previous number O(N)\n",
    "\n",
    "key is the number\n",
    "\n",
    "value is the position on the list\n",
    "\n",
    "find an element in a dict is O(1) since it is using hashing\n"
   ]
  },
  {
   "cell_type": "code",
   "execution_count": 58,
   "metadata": {},
   "outputs": [
    {
     "name": "stdout",
     "output_type": "stream",
     "text": [
      "2 3\n"
     ]
    }
   ],
   "source": [
    "target = 20\n",
    "nums = [9,10,5,15]\n",
    "\n",
    "previous = dict()\n",
    "\n",
    "for position_of_second_number,second_number in enumerate(nums):\n",
    "    first_number = target-second_number\n",
    "    if first_number in previous.keys():\n",
    "        print(previous[first_number],position_of_second_number)\n",
    "        break\n",
    "    else:\n",
    "        previous[second_number] = position_of_second_number"
   ]
  }
 ],
 "metadata": {
  "interpreter": {
   "hash": "7826722ec4367e2873e398bb03d07cf2c0b573181d0473081d0deef1891c47cd"
  },
  "kernelspec": {
   "display_name": "Python 3",
   "language": "python",
   "name": "python3"
  },
  "language_info": {
   "codemirror_mode": {
    "name": "ipython",
    "version": 3
   },
   "file_extension": ".py",
   "mimetype": "text/x-python",
   "name": "python",
   "nbconvert_exporter": "python",
   "pygments_lexer": "ipython3",
   "version": "3.8.8"
  }
 },
 "nbformat": 4,
 "nbformat_minor": 2
}
