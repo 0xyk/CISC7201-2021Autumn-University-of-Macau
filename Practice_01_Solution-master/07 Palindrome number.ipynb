{
 "cells": [
  {
   "cell_type": "markdown",
   "metadata": {},
   "source": [
    "## Solution\n",
    "\n",
    "We can handle it with string\n",
    "\n",
    "judge the palindrome by comparing the num and the reverse of num\n",
    "\n",
    "use slicing to reverse a string or list: '[::-1]'\n",
    "\n",
    "if it is negative, remove the '-'"
   ]
  },
  {
   "cell_type": "code",
   "execution_count": null,
   "metadata": {},
   "outputs": [],
   "source": [
    "num = input()\n",
    "if num[0]=='-':\n",
    "    num = num[1:]\n",
    "print(num == num[::-1])"
   ]
  }
 ],
 "metadata": {
  "kernelspec": {
   "display_name": "Python 3",
   "language": "python",
   "name": "python3"
  },
  "language_info": {
   "codemirror_mode": {
    "name": "ipython",
    "version": 3
   },
   "file_extension": ".py",
   "mimetype": "text/x-python",
   "name": "python",
   "nbconvert_exporter": "python",
   "pygments_lexer": "ipython3",
   "version": "3.8.8"
  }
 },
 "nbformat": 4,
 "nbformat_minor": 2
}
